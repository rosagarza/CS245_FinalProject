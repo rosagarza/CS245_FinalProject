{
  "nbformat": 4,
  "nbformat_minor": 0,
  "metadata": {
    "colab": {
      "name": "Recurrent GCN.ipynb",
      "provenance": [],
      "collapsed_sections": [
        "W5H4nGJ4GJBu",
        "ZKL9S3T2tMpg"
      ]
    },
    "kernelspec": {
      "name": "python3",
      "display_name": "Python 3"
    },
    "language_info": {
      "name": "python"
    }
  },
  "cells": [
    {
      "cell_type": "markdown",
      "metadata": {
        "id": "rI-az81tGPE2"
      },
      "source": [
        "# Recurrent Graph Convolutional Network for Epidemic Modeling"
      ]
    },
    {
      "cell_type": "markdown",
      "metadata": {
        "id": "sE8BvCEfOhOE"
      },
      "source": [
        "Peter Racioppo"
      ]
    },
    {
      "cell_type": "markdown",
      "metadata": {
        "id": "W5H4nGJ4GJBu"
      },
      "source": [
        "### Installations:"
      ]
    },
    {
      "cell_type": "code",
      "metadata": {
        "id": "VRS5i58L8vRN",
        "colab": {
          "base_uri": "https://localhost:8080/"
        },
        "outputId": "377a365a-ddb2-44a2-cc0b-c4745c479a00"
      },
      "source": [
        "# # !pip install torch_geometric\n",
        "!pip install torch_geometric_temporal\n",
        "\n",
        "# # Pytorch Geometric Temporal:\n",
        "# # >@inproceedings{rozemberczki2021pytorch,\n",
        "# #                 author = {Benedek Rozemberczki and Paul Scherer and Yixuan He and George Panagopoulos and Alexander Riedel and Maria Astefanoaei and Oliver Kiss and Ferenc Beres and and Guzman Lopez and Nicolas Collignon and Rik Sarkar},\n",
        "# #                 title = {{PyTorch Geometric Temporal: Spatiotemporal Signal Processing with Neural Machine Learning Models}},\n",
        "# #                 year = {2021},\n",
        "# #                 booktitle={Proceedings of the 30th ACM International Conference on Information and Knowledge Management},\n",
        "# #                 pages = {4564–4573},\n",
        "# # }"
      ],
      "execution_count": 1,
      "outputs": [
        {
          "output_type": "stream",
          "name": "stdout",
          "text": [
            "Collecting torch_geometric_temporal\n",
            "  Downloading torch_geometric_temporal-0.41.tar.gz (42 kB)\n",
            "\u001b[K     |████████████████████████████████| 42 kB 1.3 MB/s \n",
            "\u001b[?25hRequirement already satisfied: decorator==4.4.2 in /usr/local/lib/python3.7/dist-packages (from torch_geometric_temporal) (4.4.2)\n",
            "Requirement already satisfied: torch in /usr/local/lib/python3.7/dist-packages (from torch_geometric_temporal) (1.10.0+cu111)\n",
            "Collecting torch_sparse\n",
            "  Downloading torch_sparse-0.6.12.tar.gz (43 kB)\n",
            "\u001b[K     |████████████████████████████████| 43 kB 1.9 MB/s \n",
            "\u001b[?25hCollecting torch_scatter\n",
            "  Downloading torch_scatter-2.0.9.tar.gz (21 kB)\n",
            "Collecting torch_cluster\n",
            "  Downloading torch_cluster-1.5.9.tar.gz (38 kB)\n",
            "Collecting torch_spline_conv\n",
            "  Downloading torch_spline_conv-1.2.1.tar.gz (13 kB)\n",
            "Collecting torch_geometric\n",
            "  Downloading torch_geometric-2.0.2.tar.gz (325 kB)\n",
            "\u001b[K     |████████████████████████████████| 325 kB 35.2 MB/s \n",
            "\u001b[?25hRequirement already satisfied: numpy in /usr/local/lib/python3.7/dist-packages (from torch_geometric_temporal) (1.19.5)\n",
            "Requirement already satisfied: scipy in /usr/local/lib/python3.7/dist-packages (from torch_geometric_temporal) (1.4.1)\n",
            "Requirement already satisfied: tqdm in /usr/local/lib/python3.7/dist-packages (from torch_geometric_temporal) (4.62.3)\n",
            "Requirement already satisfied: six in /usr/local/lib/python3.7/dist-packages (from torch_geometric_temporal) (1.15.0)\n",
            "Requirement already satisfied: typing-extensions in /usr/local/lib/python3.7/dist-packages (from torch->torch_geometric_temporal) (3.10.0.2)\n",
            "Requirement already satisfied: networkx in /usr/local/lib/python3.7/dist-packages (from torch_geometric->torch_geometric_temporal) (2.6.3)\n",
            "Requirement already satisfied: scikit-learn in /usr/local/lib/python3.7/dist-packages (from torch_geometric->torch_geometric_temporal) (1.0.1)\n",
            "Requirement already satisfied: requests in /usr/local/lib/python3.7/dist-packages (from torch_geometric->torch_geometric_temporal) (2.23.0)\n",
            "Requirement already satisfied: pandas in /usr/local/lib/python3.7/dist-packages (from torch_geometric->torch_geometric_temporal) (1.1.5)\n",
            "Collecting rdflib\n",
            "  Downloading rdflib-6.0.2-py3-none-any.whl (407 kB)\n",
            "\u001b[K     |████████████████████████████████| 407 kB 35.1 MB/s \n",
            "\u001b[?25hRequirement already satisfied: googledrivedownloader in /usr/local/lib/python3.7/dist-packages (from torch_geometric->torch_geometric_temporal) (0.4)\n",
            "Requirement already satisfied: jinja2 in /usr/local/lib/python3.7/dist-packages (from torch_geometric->torch_geometric_temporal) (2.11.3)\n",
            "Requirement already satisfied: pyparsing in /usr/local/lib/python3.7/dist-packages (from torch_geometric->torch_geometric_temporal) (3.0.6)\n",
            "Collecting yacs\n",
            "  Downloading yacs-0.1.8-py3-none-any.whl (14 kB)\n",
            "Requirement already satisfied: PyYAML in /usr/local/lib/python3.7/dist-packages (from torch_geometric->torch_geometric_temporal) (3.13)\n",
            "Requirement already satisfied: MarkupSafe>=0.23 in /usr/local/lib/python3.7/dist-packages (from jinja2->torch_geometric->torch_geometric_temporal) (2.0.1)\n",
            "Requirement already satisfied: python-dateutil>=2.7.3 in /usr/local/lib/python3.7/dist-packages (from pandas->torch_geometric->torch_geometric_temporal) (2.8.2)\n",
            "Requirement already satisfied: pytz>=2017.2 in /usr/local/lib/python3.7/dist-packages (from pandas->torch_geometric->torch_geometric_temporal) (2018.9)\n",
            "Requirement already satisfied: setuptools in /usr/local/lib/python3.7/dist-packages (from rdflib->torch_geometric->torch_geometric_temporal) (57.4.0)\n",
            "Collecting isodate\n",
            "  Downloading isodate-0.6.0-py2.py3-none-any.whl (45 kB)\n",
            "\u001b[K     |████████████████████████████████| 45 kB 4.1 MB/s \n",
            "\u001b[?25hRequirement already satisfied: urllib3!=1.25.0,!=1.25.1,<1.26,>=1.21.1 in /usr/local/lib/python3.7/dist-packages (from requests->torch_geometric->torch_geometric_temporal) (1.24.3)\n",
            "Requirement already satisfied: chardet<4,>=3.0.2 in /usr/local/lib/python3.7/dist-packages (from requests->torch_geometric->torch_geometric_temporal) (3.0.4)\n",
            "Requirement already satisfied: idna<3,>=2.5 in /usr/local/lib/python3.7/dist-packages (from requests->torch_geometric->torch_geometric_temporal) (2.10)\n",
            "Requirement already satisfied: certifi>=2017.4.17 in /usr/local/lib/python3.7/dist-packages (from requests->torch_geometric->torch_geometric_temporal) (2021.10.8)\n",
            "Requirement already satisfied: joblib>=0.11 in /usr/local/lib/python3.7/dist-packages (from scikit-learn->torch_geometric->torch_geometric_temporal) (1.1.0)\n",
            "Requirement already satisfied: threadpoolctl>=2.0.0 in /usr/local/lib/python3.7/dist-packages (from scikit-learn->torch_geometric->torch_geometric_temporal) (3.0.0)\n",
            "Building wheels for collected packages: torch-geometric-temporal, torch-cluster, torch-geometric, torch-scatter, torch-sparse, torch-spline-conv\n",
            "  Building wheel for torch-geometric-temporal (setup.py) ... \u001b[?25l\u001b[?25hdone\n",
            "  Created wheel for torch-geometric-temporal: filename=torch_geometric_temporal-0.41-py3-none-any.whl size=69657 sha256=4b3362ce80b9ebb17a8d4622406e283cede46734a38061f7e16de80f675f808e\n",
            "  Stored in directory: /root/.cache/pip/wheels/d9/96/b2/641bbc9d0b104f4edbfe7b679a516abb3abc7777ea76a77a16\n",
            "  Building wheel for torch-cluster (setup.py) ... \u001b[?25l\u001b[?25hdone\n",
            "  Created wheel for torch-cluster: filename=torch_cluster-1.5.9-cp37-cp37m-linux_x86_64.whl size=317965 sha256=e8cc6f799e2ee00cab5735175d61c0d6a4e87f2099b6281ab0fb2df55fc7d46f\n",
            "  Stored in directory: /root/.cache/pip/wheels/a6/60/d8/8bb27f58d8578ba8046f7ea0aadbae89a731db884a644ba361\n",
            "  Building wheel for torch-geometric (setup.py) ... \u001b[?25l\u001b[?25hdone\n",
            "  Created wheel for torch-geometric: filename=torch_geometric-2.0.2-py3-none-any.whl size=535570 sha256=e7faf125f1f08404142da8744af23eca659be106445547aef9521bbc990876be\n",
            "  Stored in directory: /root/.cache/pip/wheels/3f/08/13/2321517088bb2e95bfd0e45033bb9c923189e5b2078e0be4ef\n",
            "  Building wheel for torch-scatter (setup.py) ... \u001b[?25l\u001b[?25hdone\n",
            "  Created wheel for torch-scatter: filename=torch_scatter-2.0.9-cp37-cp37m-linux_x86_64.whl size=282114 sha256=f4f6d589eb9cf599c8022daf712149dbfe0adff31e1ebb20f71641463b0c7614\n",
            "  Stored in directory: /root/.cache/pip/wheels/dd/57/a3/42ea193b77378ce634eb9454c9bc1e3163f3b482a35cdee4d1\n",
            "  Building wheel for torch-sparse (setup.py) ... \u001b[?25l\u001b[?25hdone\n",
            "  Created wheel for torch-sparse: filename=torch_sparse-0.6.12-cp37-cp37m-linux_x86_64.whl size=505740 sha256=de02117dfa6708dc4989ec679f084a3d0ebc01d7672c658e58942c0a56ff2959\n",
            "  Stored in directory: /root/.cache/pip/wheels/fb/e2/2f/44956c61e3299573ffe12da9d1374c7576ca0c5fb1fe1ed38c\n",
            "  Building wheel for torch-spline-conv (setup.py) ... \u001b[?25l\u001b[?25hdone\n",
            "  Created wheel for torch-spline-conv: filename=torch_spline_conv-1.2.1-cp37-cp37m-linux_x86_64.whl size=133838 sha256=7aa05f9f0dea52d8801456d543cdc4f194081eda054e26c9cfcc114ce46e0690\n",
            "  Stored in directory: /root/.cache/pip/wheels/9c/33/73/780370b7c7bdf2340c0a7b971e915643f14795b4caa7a9a31f\n",
            "Successfully built torch-geometric-temporal torch-cluster torch-geometric torch-scatter torch-sparse torch-spline-conv\n",
            "Installing collected packages: isodate, yacs, rdflib, torch-spline-conv, torch-sparse, torch-scatter, torch-geometric, torch-cluster, torch-geometric-temporal\n",
            "Successfully installed isodate-0.6.0 rdflib-6.0.2 torch-cluster-1.5.9 torch-geometric-2.0.2 torch-geometric-temporal-0.41 torch-scatter-2.0.9 torch-sparse-0.6.12 torch-spline-conv-1.2.1 yacs-0.1.8\n"
          ]
        }
      ]
    },
    {
      "cell_type": "markdown",
      "metadata": {
        "id": "2y6m6o1neH_o"
      },
      "source": [
        "### Imports:"
      ]
    },
    {
      "cell_type": "code",
      "metadata": {
        "id": "MzAEhUppJVHF"
      },
      "source": [
        "# Imports\n",
        "\n",
        "import numpy as np\n",
        "import torch\n",
        "import matplotlib.pyplot as plt\n",
        "%matplotlib inline\n",
        "from pylab import rcParams\n",
        "\n",
        "import random\n",
        "import math\n",
        "import scipy.linalg\n",
        "import networkx as nx\n",
        "import os\n",
        "\n",
        "import torch_geometric_temporal"
      ],
      "execution_count": 2,
      "outputs": []
    },
    {
      "cell_type": "markdown",
      "metadata": {
        "id": "YCYgPbsUGDkF"
      },
      "source": [
        "### Loading in the data:"
      ]
    },
    {
      "cell_type": "code",
      "metadata": {
        "id": "i_q1BEPp9ueE"
      },
      "source": [
        "from torch_geometric_temporal.dataset import ChickenpoxDatasetLoader\n",
        "from torch_geometric_temporal.signal import temporal_signal_split\n",
        "\n",
        "loader = ChickenpoxDatasetLoader()\n",
        "\n",
        "dataset = loader.get_dataset()\n",
        "\n",
        "train_dataset, test_dataset = temporal_signal_split(dataset, train_ratio=0.8)\n",
        "# Note: train_ratio=0.8 means we're using 80% of the data for training and 20% for testing"
      ],
      "execution_count": 3,
      "outputs": []
    },
    {
      "cell_type": "code",
      "metadata": {
        "id": "r1dsZRD8SHpa",
        "colab": {
          "base_uri": "https://localhost:8080/"
        },
        "outputId": "4bf8de76-abc1-4a20-ed6b-3ea60a6bb905"
      },
      "source": [
        "# Basic tests with the data:\n",
        "\n",
        "x_i = 0\n",
        "y_i = 0\n",
        "for train_time, snapshot in enumerate(train_dataset):\n",
        "  # print(train_time)\n",
        "  x = np.array(snapshot.x)\n",
        "  y = np.array(snapshot.y)\n",
        "  edge_idx = np.array(snapshot.edge_index)\n",
        "  edge_attr = np.array(snapshot.edge_attr)\n",
        "\n",
        "  dx = x - x_i\n",
        "  x_i = x\n",
        "\n",
        "  dy = y - y_i\n",
        "  y_i = y\n",
        "\n",
        "for test_time, _ in enumerate(test_dataset):\n",
        "  # print(test_time)\n",
        "  pass\n",
        "\n",
        "print(dataset)\n",
        "print(snapshot)\n",
        "\n",
        "X = torch.from_numpy(np.concatenate((x,dx)))\n",
        "Y = torch.from_numpy(np.concatenate((y,dy)))\n",
        "\n",
        "# print(snapshot.x)\n",
        "# print(X)\n",
        "print(snapshot.x.type())\n",
        "print(X.type())\n",
        "print(np.shape(snapshot.x))\n",
        "print(np.shape(X))\n",
        "\n",
        "# print(snapshot.y)\n",
        "# print(Y)\n",
        "print(snapshot.y.type())\n",
        "print(Y.type())\n",
        "print(np.shape(snapshot.y))\n",
        "print(np.shape(Y))\n",
        "\n",
        "# edge_idx_2 = torch.from_numpy(edge_idx)\n",
        "# print(snapshot.edge_index)\n",
        "# print(edge_idx_2)"
      ],
      "execution_count": 4,
      "outputs": [
        {
          "output_type": "stream",
          "name": "stdout",
          "text": [
            "<torch_geometric_temporal.signal.static_graph_temporal_signal.StaticGraphTemporalSignal object at 0x7f838c588150>\n",
            "Data(x=[20, 4], edge_index=[2, 102], edge_attr=[102], y=[20])\n",
            "torch.FloatTensor\n",
            "torch.FloatTensor\n",
            "torch.Size([20, 4])\n",
            "torch.Size([40, 4])\n",
            "torch.FloatTensor\n",
            "torch.FloatTensor\n",
            "torch.Size([20])\n",
            "torch.Size([40])\n"
          ]
        }
      ]
    },
    {
      "cell_type": "code",
      "metadata": {
        "id": "_2Rw0g0-IQrB"
      },
      "source": [
        "# Get nodes, features, edge list, and edge atrributes for a particular snapshot\n",
        "x = np.array(snapshot.x)\n",
        "edge_idx = np.array(snapshot.edge_index)\n",
        "edge_attr = np.array(snapshot.edge_attr)\n",
        "\n",
        "# print(x)\n",
        "# print(edge_idx)\n",
        "# print(edge_attr)\n",
        "\n",
        "# print(np.shape(x))\n",
        "# print(np.shape(edge_idx))\n",
        "# print(np.shape(edge_attr))"
      ],
      "execution_count": 5,
      "outputs": []
    },
    {
      "cell_type": "code",
      "metadata": {
        "id": "PjQiipe1P2Wh",
        "colab": {
          "base_uri": "https://localhost:8080/"
        },
        "outputId": "14f76347-f45b-4651-ad27-f990cfc27b54"
      },
      "source": [
        "N_n = np.shape(x)[0] # Number of nodes\n",
        "N_f = np.shape(x)[1] # Number of features\n",
        "N_e = np.shape(edge_idx)[1] # Number of edges\n",
        "\n",
        "print('Number of nodes:', N_n)\n",
        "print('Number of features:', N_f)\n",
        "print('Number of edges:', N_e)\n",
        "print('Number of training time steps:', train_time)\n",
        "print('Number of testing time steps:', test_time)"
      ],
      "execution_count": 6,
      "outputs": [
        {
          "output_type": "stream",
          "name": "stdout",
          "text": [
            "Number of nodes: 20\n",
            "Number of features: 4\n",
            "Number of edges: 102\n",
            "Number of training time steps: 412\n",
            "Number of testing time steps: 103\n"
          ]
        }
      ]
    },
    {
      "cell_type": "markdown",
      "metadata": {
        "id": "ZKL9S3T2tMpg"
      },
      "source": [
        "### Loading the 50-State COVID Data (unfinished):"
      ]
    },
    {
      "cell_type": "code",
      "metadata": {
        "id": "Ovo4fbzTw7jL"
      },
      "source": [
        "# from google.colab import drive\n",
        "# drive.mount('/gdrive')\n",
        "# %cd /gdrive"
      ],
      "execution_count": 7,
      "outputs": []
    },
    {
      "cell_type": "code",
      "metadata": {
        "id": "y4v5najvxd-4"
      },
      "source": [
        "# os.system('clear')\n",
        "# # Import Data\n",
        "# PROJECT_ROOT = \"/gdrive/My Drive/\"\n",
        "\n",
        "# features = {\n",
        "#     'Confirmed',\n",
        "#     'Deaths',\n",
        "#     'Recovered',\n",
        "#     'Mortality Rate',\n",
        "#     'Testing Rate',\n",
        "#     'Population',\n",
        "#     'Mobility Data'\n",
        "# }\n",
        "# feature_labels = np.array(list(features))\n",
        "\n",
        "# train = np.load(os.path.join(PROJECT_ROOT,\"CS245_train.npy\"))\n",
        "# x1_train = train[:,:,0]\n",
        "# xf_train = train[:,:,2:7]\n",
        "# dim = np.shape(x1_train)[0],np.shape(x1_train)[1],1\n",
        "# x1_train = np.reshape(x1_train,(dim))\n",
        "\n",
        "# x0_train = np.zeros_like(x1_train)\n",
        "# for i in np.arange(np.shape(x1_train)[0]):\n",
        "#   x0_train[i,:,0] = np.arange(0,np.shape(x1_train)[1])+1\n",
        "\n",
        "# # x_train = np.concatenate((x1_train,xf_train),axis=2)\n",
        "# x_train = np.concatenate((x0_train,x1_train,xf_train),axis=2)\n",
        "\n",
        "# y_train = train[:,:,1]\n",
        "\n",
        "# print(np.shape(x_train))\n",
        "# print(np.shape(y_train))\n",
        "\n",
        "# test = np.load(os.path.join(PROJECT_ROOT,\"CS245_test.npy\"))\n",
        "# x1_test = test[:,:,0]\n",
        "# xf_test = test[:,:,2:7]\n",
        "# dim = np.shape(x1_test)[0],np.shape(x1_test)[1],1\n",
        "# x1_test = np.reshape(x1_test,(dim))\n",
        "# x_test = np.concatenate((x1_test,xf_test),axis=2)\n",
        "# y_test = test[:,:,1]\n",
        "# print(np.shape(x_test))\n",
        "# print(np.shape(y_test))"
      ],
      "execution_count": 8,
      "outputs": []
    },
    {
      "cell_type": "code",
      "metadata": {
        "id": "vGT6yvffxlRh"
      },
      "source": [
        "# # Convert to torch tensors\n",
        "# X_train = torch.from_numpy(x_train_split)\n",
        "# Y_train = torch.from_numpy(y_train_split)\n",
        "# X_valid = torch.from_numpy(x_valid)\n",
        "# Y_valid = torch.from_numpy(y_valid)\n",
        "# X_test = torch.from_numpy(x_test)\n",
        "# Y_test = torch.from_numpy(y_test)\n",
        "\n",
        "# # Pytorch TensorDataset\n",
        "# train_ds = torchdata.TensorDataset(X_train, Y_train)\n",
        "# valid_ds = torchdata.TensorDataset(X_valid, Y_valid)\n",
        "# test_ds = torchdata.TensorDataset(X_test, Y_test)\n",
        "# print(len(train_ds))\n",
        "# print(np.shape(Y_train))\n",
        "\n",
        "# states, N_f, steps = x_train_t.shape\n",
        "# print(states)\n",
        "# print(N_f)\n",
        "# print(steps)\n",
        "# # num_classes = len(events)"
      ],
      "execution_count": 9,
      "outputs": []
    },
    {
      "cell_type": "markdown",
      "metadata": {
        "id": "1K9H001147M9"
      },
      "source": [
        "### Basic graph functionality"
      ]
    },
    {
      "cell_type": "code",
      "metadata": {
        "id": "LVtV2DyKhK2B"
      },
      "source": [
        "# Build an adjecency matrix from an edge_list\n",
        "def f_Adj_Mat_from_Edge_list(N_n,edge_list,edge_attr,uea=0):\n",
        "  Adj = np.zeros((N_n,N_n)) # Initialize adjacency matrix\n",
        "  for e in np.arange(np.shape(edge_list)[1]): # Index e of edge in edge list\n",
        "    i, j = edge_list[:,e] # Get the in and out nodes of an edge\n",
        "    if uea==1:\n",
        "      Adj[i,j] = edge_attr[e] # Add edge attribute to ijth entry of adj matrix\n",
        "    else:\n",
        "      Adj[i,j] = 1\n",
        "  return Adj\n",
        "\n",
        "# Build an edge_list from an adjacency matrix\n",
        "def f_Edge_list_from_Adj_Mat(Adj):\n",
        "  N_n = np.shape(Adj)[0] # Number of nodes\n",
        "  N_e = sum(sum(Adj>0)) # Number of edges\n",
        "  edge_list = np.zeros((2,N_e)) # Initialize edge list\n",
        "  edge_attr = np.zeros(N_e) # Initialize edge attribute list\n",
        "  # Loop through adjacency matrix and put build edge list:\n",
        "  k = 0\n",
        "  for i in np.arange(N_n):\n",
        "    for j in np.arange(N_n):\n",
        "      if Adj[i,j] > 0:\n",
        "        edge_list[:,k] = np.array([i,j]) # Add edge btwn nodes i,j to edge list\n",
        "        edge_attr[k] = Adj[i,j] # Add ijth value of Adj to edge attribute list\n",
        "        k += 1\n",
        "  return edge_list.astype(int), edge_attr.astype(int)\n",
        "\n",
        "# # Test\n",
        "N_n = np.max(edge_idx)+1 # Number of nodes\n",
        "Adj = f_Adj_Mat_from_Edge_list(N_n,edge_idx,edge_attr)\n",
        "# edge_list, edge_attr = f_Edge_list_from_Adj_Mat(G)\n",
        "# edge_list\n",
        "# sum(sum(edge_list-edge_idx))"
      ],
      "execution_count": 10,
      "outputs": []
    },
    {
      "cell_type": "markdown",
      "metadata": {
        "id": "780X2FyfIx4u"
      },
      "source": [
        "### Visualizing the Data:"
      ]
    },
    {
      "cell_type": "code",
      "metadata": {
        "id": "DKSom1uVLV2Y",
        "colab": {
          "base_uri": "https://localhost:8080/",
          "height": 248
        },
        "outputId": "adb7a310-aa10-472c-8b84-1690d7699f4c"
      },
      "source": [
        "# Plot the graph structure at a single time step\n",
        "G = f_Adj_Mat_from_Edge_list(N_n,edge_idx,edge_attr) # Get adjacency matrix\n",
        "G_plot = G - np.eye(N_n) # Remove self loops (for plotting)\n",
        "\n",
        "nx.draw_networkx(nx.from_numpy_matrix(G_plot),with_labels=False,node_size=20,node_color='k')\n",
        "plt.show()"
      ],
      "execution_count": 11,
      "outputs": [
        {
          "output_type": "display_data",
          "data": {
            "image/png": "[encoded data removed]",
            "text/plain": [
              "<Figure size 432x288 with 1 Axes>"
            ]
          },
          "metadata": {}
        }
      ]
    },
    {
      "cell_type": "markdown",
      "metadata": {
        "id": "zv0_cpYEQrEE"
      },
      "source": [
        "### Functionality for Expanding the Graph"
      ]
    },
    {
      "cell_type": "code",
      "metadata": {
        "id": "YN3AwWFjQrZW"
      },
      "source": [
        "# This function expands the graph, adding N new nodes to represent time\n",
        "# derivatives of features and adding edges according to the Markov assumptions\n",
        "# relating position to velocity.\n",
        "# NOTE: This function assumes all edge atrributes are 1.\n",
        "def f_Expand_Graph(N_n,edge_list,sa=1):\n",
        "  N_n2 = 2*N_n # Number of nodes doubles\n",
        "  G2 = np.eye(N_n2) # Initialize G2, including self-loops\n",
        "  # Loop through adj matrix and add edges going out of v nodes:\n",
        "  for i in np.arange(N_n,N_n2):\n",
        "      G2[i,i-N_n] = 1 # Edge from v_i to x_i\n",
        "      # If vertices are all connected:\n",
        "      for j in np.arange(N_n,N_n2):\n",
        "        if sa == 1 or len(edge_list) == 0:\n",
        "        # (If v's are fully-connected with each other)\n",
        "          G2[i,j] = 1 # Edge from v_i to v_j & v_j to v_i\n",
        "\n",
        "  if len(edge_list) == 0: # If edge_list is empty\n",
        "    # Connect all position nodes to all velocity nodes:\n",
        "    for i in np.arange(N_n):\n",
        "        for j in np.arange(N_n,N_n2):\n",
        "          G2[i,j] = 1 # Edge from x_i to v_j\n",
        "\n",
        "  else: # If edge_list is not empty\n",
        "    # Connect position nodes to velocity nodes, following the same\n",
        "    # connectivity pattern as in the smaller graph.\n",
        "    # Loop through edge list:\n",
        "    for e in np.arange(np.shape(edge_list)[1]):\n",
        "      i, j = edge_list[:,e]\n",
        "      G2[i,j+N_n] = 1 # Edge from x_i to v_j\n",
        "      # If velocity nodes are connected in the same pattern as position nodes:\n",
        "      if sa == 0:\n",
        "        G2[i+N_n,j+N_n] = 1 # Edge from v_i to v_j\n",
        "        # G2[j+N_n,i+N_n] = 1 # Edge from v_j to v_i\n",
        "\n",
        "  edge_list_2, edge_attr_2 = f_Edge_list_from_Adj_Mat(G2) # Get edge list\n",
        "  return edge_list_2, edge_attr_2, G2\n",
        "\n",
        "# # Test:\n",
        "# edge_list_2, edge_attr_2, G2_f = f_Expand_Graph(N_n,edge_idx,sa=1)\n",
        "# # print(edge_idx)\n",
        "# # print(edge_list_2)\n",
        "# # print(edge_attr)\n",
        "# # print(torch.from_numpy(edge_attr_2.astype(float)))\n",
        "# # print(sum(sum(G2)))\n",
        "# print(np.shape(edge_idx))\n",
        "# print(np.shape(edge_list_2))\n",
        "# print(np.shape(G2_f))\n",
        "# # print(np.shape(edge_attr_2))"
      ],
      "execution_count": 12,
      "outputs": []
    },
    {
      "cell_type": "code",
      "metadata": {
        "id": "pQN1afLqp_ro"
      },
      "source": [
        "# This function expands 1 node at a time, adding a new node to represent its \n",
        "# time derivative and adding & removing edges according to the Markov\n",
        "# assumptions relating position to velocity.\n",
        "# NOTE: This function assumes all edge atrributes are 1.\n",
        "def f_Expand_Node(N_n,N_i,edge_list,edge_list_i,edge_attr,expand_node,expanded_node_list,sa=1):\n",
        "  N_n2 = N_i+1 # Number of nodes increases by 1\n",
        "  expand_vnode = N_i # Index of v node corresponding to node being expanded\n",
        "  # Append new expanded node to list:\n",
        "  expanded_node_list = np.append(expanded_node_list,expand_node)\n",
        "  # Get adjacency matrix:\n",
        "  G2 = f_Adj_Mat_from_Edge_list(N_n2,edge_list_i,edge_attr)\n",
        "  # Add edges going out of new node v:\n",
        "  G2[expand_vnode,expand_node] = 1 # Edge from v to x\n",
        "  G2[expand_node,expand_vnode] = 1 # Edge from x to v\n",
        "  # G2[expand_vnode,expand_vnode] = 1 # Edge from v to v\n",
        "  # If vertices are all connected:\n",
        "  for i in np.arange(N_n,N_n2): # Loop through all v's\n",
        "    if sa == 1 or len(edge_list) == 0:\n",
        "      # (If v's are fully-connected with each other)\n",
        "      G2[i,expand_vnode] = 1 # Edge from v_i to v\n",
        "      G2[expand_vnode,i] = 1 # Edge from v to v_i\n",
        "\n",
        "  if len(edge_list) == 0: # If edge_list is empty\n",
        "    # Connect all position nodes to new velocity node:\n",
        "    for i in np.arange(N_n): # Loop through x nodes\n",
        "      G2[i,expand_vnode] = 1 # Edge from x_i to v\n",
        "      if i != expand_node: # If not the self-loop for expand_node\n",
        "        G2[expand_node,i] = 0 # Remove edges from expand_node to all other nodes\n",
        "\n",
        "  else: # If edge_list is not empty\n",
        "      # Connect position nodes to v, following the same\n",
        "      # connectivity pattern as in the smaller graph.\n",
        "      for e in np.arange(np.shape(edge_list)[1]): # Loop through edge list:\n",
        "        i, j = edge_list[:,e] # Get starting and ending nodes of edges\n",
        "        if j == expand_node: # If ending node is expand_node\n",
        "          G2[i,expand_vnode] = 1 # Edge from x_i to v\n",
        "\n",
        "        # Remove all edges from expansion node to other nodes:\n",
        "        if i == expand_node and j <= N_n and i != j:\n",
        "        # (If starting node is expand_node and ending nodes is an x node\n",
        "        # and this is not a self loop)\n",
        "          G2[i,j] = 0 # Remove edge\n",
        "\n",
        "        # If velocity nodes are connected in the same pattern as position nodes:\n",
        "        if sa == 0:\n",
        "          if j == expand_node and i in expanded_node_list:\n",
        "          # (If ending node is expand_node and starting node x_i is in the list\n",
        "          # of previously-expanded nodes)\n",
        "            idx = np.where(expanded_node_list==i)[0][0] # Index of x_i\n",
        "            G2[idx+N_n,expand_vnode] = 1 # Edge from v_i to v\n",
        "          if i == expand_node and j in expanded_node_list:\n",
        "          # (If starting node is expand_node and ending node x_j is in the list\n",
        "          # of previously-expanded nodes)  \n",
        "            idx = np.where(expanded_node_list==j)[0][0] # Index of x_j\n",
        "            G2[expand_vnode,idx+N_n] = 1 # Edge from v to v_j\n",
        "\n",
        "  edge_list_2, edge_attr_2 = f_Edge_list_from_Adj_Mat(G2) # Get edge list\n",
        "  N_i = N_n2 # Update number of nodes\n",
        "\n",
        "  return edge_list_2, edge_attr_2, expanded_node_list, N_i, G2\n",
        "\n",
        "# # Test 1 (single run):\n",
        "# N_i = N_n\n",
        "# edge_list = edge_idx\n",
        "# edge_list_i = edge_list\n",
        "# sa = 0\n",
        "# expanded_node_list = np.array([]).astype(int)\n",
        "# expand_node = 0\n",
        "# edge_list_2, edge_attr_2, expanded_node_list, N_i, G2 = f_Expand_Node(N_n,N_i,edge_list,edge_list_i,edge_attr,expand_node,expanded_node_list,sa=sa)\n",
        "# # print(edge_list)\n",
        "# # print(edge_list_2)\n",
        "# print(np.shape(edge_list))\n",
        "# print(np.shape(edge_list_2))\n",
        "# print(expanded_node_list)"
      ],
      "execution_count": 13,
      "outputs": []
    },
    {
      "cell_type": "code",
      "metadata": {
        "id": "9A35Q4KEpYNw"
      },
      "source": [
        "# This function expands N nodes at a time, adding new nodes to represent\n",
        "# time derivatives and adding & removing edges according to the Markov\n",
        "# assumptions relating position to velocity.\n",
        "# NOTE: This function assumes all edge atrributes are 1.\n",
        "# NOTE: This implementation is inefficient, because it calls f_Expand_Node\n",
        "# repeatedly, which means that edges are added which are later erased, and vice\n",
        "# versa. It would be better to construct the graph all at once (ran out of time).\n",
        "def f_Expand_N_Nodes(N_n,edge_list,edge_attr,expand_node_v,sa=0):\n",
        "  N_i = N_n # Initialize number of nodes in expanded graph to N_n\n",
        "  edge_list_i = edge_list # Initialize edge list of expanded graph to that of original graph\n",
        "  expanded_node_list = np.array([]).astype(int) # Initialize expanded_node_list to be empty\n",
        "  for expand_node in expand_node_v: # For every node we are to expand\n",
        "    # Get features of graph, expanded by 1 node\n",
        "    edge_list_i, edge_attr_i, expanded_node_list, N_i, G2 = f_Expand_Node(N_n,N_i,edge_list,edge_list_i,edge_attr,expand_node,expanded_node_list,sa=sa)\n",
        "\n",
        "  return edge_list_i, edge_attr_i, expanded_node_list, G2\n",
        "\n",
        "# # Test:\n",
        "# expand_node_v = np.random.choice(np.arange(N_n),size=N_n, replace=False)\n",
        "# edge_list_i, edge_attr_i, expanded_node_list, G2 = f_Expand_N_Nodes(N_n,edge_idx,edge_attr,expand_node_v,sa=sa)\n",
        "\n",
        "# edge_list_2, edge_attr_2, G2_f = f_Expand_Graph(N_n,edge_idx,sa=sa)\n",
        "\n",
        "# print(expanded_node_list)\n",
        "# print(np.shape(edge_idx))\n",
        "# print(np.shape(edge_list_i))\n",
        "# print(np.sum(G2_f - G2))\n",
        "\n",
        "# expand_node_v = np.random.choice(np.arange(N_n),size=1, replace=False)\n",
        "# edge_list_i, edge_attr_i, expanded_node_list, G2 = f_Expand_N_Nodes(N_n,edge_idx,edge_attr,expand_node_v,sa=sa)"
      ],
      "execution_count": 14,
      "outputs": []
    },
    {
      "cell_type": "markdown",
      "metadata": {
        "id": "rrBWA_VdpE9g"
      },
      "source": [
        "### Functionality for Sampling"
      ]
    },
    {
      "cell_type": "code",
      "metadata": {
        "id": "7p_UOEGypIDY"
      },
      "source": [
        "# Drop k random edges from the graph.\n",
        "def f_delete_k_edges(edge_idx,edge_attr,k):\n",
        "  N_e = np.shape(edge_idx)[1] # Number of edges\n",
        "  rands = np.random.choice(np.arange(N_e),k,replace=False) # Rand edges to drop\n",
        "  edge_idx_d = np.delete(edge_idx, rands, 1) # Delete edges from edge list\n",
        "  edge_attr_d = np.delete(edge_attr, rands) # Delete edges from attribute list\n",
        "  return edge_idx_d, edge_attr_d\n",
        "\n",
        "# # Test:\n",
        "# k = int(N_e/10)\n",
        "# edge_idx = np.array(snapshot.edge_index)\n",
        "# edge_attr = np.array(snapshot.edge_attr)\n",
        "# edge_idx_d, edge_attr_d = f_delete_k_edges(edge_idx,edge_attr,k)\n",
        "# print(k)\n",
        "# print(np.shape(edge_idx)[1])\n",
        "# print(np.shape(edge_idx_d)[1])\n",
        "# print(np.shape(edge_attr_d)[0])\n",
        "\n",
        "# k = 0\n",
        "# edge_idx_d, edge_attr_d = f_delete_k_edges(edge_idx,edge_attr,k)\n",
        "# print(k)\n",
        "# print(np.shape(edge_idx)[1])\n",
        "# print(np.shape(edge_idx_d)[1])\n",
        "# print(np.shape(edge_attr_d)[0])"
      ],
      "execution_count": 15,
      "outputs": []
    },
    {
      "cell_type": "code",
      "metadata": {
        "id": "3i5-TedYo4xX"
      },
      "source": [
        "# Sample a subgraph of the adjacency matrix using a random walk\n",
        "# Randomly move to an adjacent node, with probability proportional to the edge weight\n",
        "# After a random walk of length num_hops, return all nodes and edges visited.\n",
        "def f_Random_Walk_Sampler(num_hops,N_n,edge_list_o,edge_attr_o):\n",
        "  Adj = f_Adj_Mat_from_Edge_list(N_n,edge_list_o,edge_attr_o)\n",
        "  node_list = np.zeros(num_hops) # Add starting node to node list\n",
        "  edge_list = np.zeros((2,num_hops))-1 # Initialize edge list\n",
        "  n = np.random.choice(N_n) # Start at a random node\n",
        "  n_i = n # Var to hold previous node\n",
        "  for i in np.arange(num_hops):\n",
        "    idx_v = [] # Array of indices of neighboring nodes\n",
        "    prob_v = [] # Array of edge probabilities\n",
        "    for j in np.arange(N_n):\n",
        "      if Adj[n,j] > 0: # If there is an edge\n",
        "        idx_v.append(j) # Append index of neighboring nodes\n",
        "        prob_v.append(Adj[n,j]) # Append weight of edge of this node\n",
        "    prob_v /= np.sum(prob_v) # Normalize probability\n",
        "    # Randomly choose one of the neighboring nodes\n",
        "    n_idx = np.random.choice(np.arange(len(prob_v)),p=prob_v) # Node index\n",
        "    n = idx_v[n_idx] # New node\n",
        "    node_list[i] = n # Add new node to array\n",
        "    if n_i not in edge_list[0,:] or n not in edge_list[1,:]:\n",
        "        edge_list[0,i] = n_i # Add starting node to edge list\n",
        "        edge_list[1,i] = n # Add ending node to edge list\n",
        "    n_i = n # Old node\n",
        "  \n",
        "  # Remove duplicate nodes and convert to int array:\n",
        "  node_list = np.unique(node_list).astype(int)\n",
        "\n",
        "  # Remove unused entries of edge_list:\n",
        "  edge_list0 = edge_list[0,:]\n",
        "  edge_list1 = edge_list[1,:]\n",
        "  edge_list0 = edge_list0[edge_list0 != -1]\n",
        "  edge_list1 = edge_list1[edge_list1 != -1]\n",
        "\n",
        "  # Sort edge list by indices of first row:\n",
        "  idx0 = np.argsort(edge_list0)\n",
        "  edge_list0 = edge_list0[idx0]\n",
        "  edge_list1 = edge_list1[idx0]\n",
        "\n",
        "  # Combine start and end nodes back into edge list\n",
        "  edge_list = np.zeros((2,np.shape(edge_list0)[0]))\n",
        "  edge_list[0,:] = edge_list0\n",
        "  edge_list[1,:] = edge_list1\n",
        "  edge_list = edge_list.astype(int) # Convert to int array\n",
        "\n",
        "  N_e2 = np.shape(edge_list)[1] # Number of edges in new edge list\n",
        "  edge_attr = np.zeros(N_e2) # Initialize new edge attribute list\n",
        "  count_v = np.zeros(N_e2) # Initialize counter (for testing)\n",
        "  # For every edge in the new edge list:\n",
        "  for k in np.arange(N_e2):\n",
        "    v1 = edge_list[0,k] # Get out node\n",
        "    v2 = edge_list[1,k] # Get in node\n",
        "    # (there is an edge between v1 & v2 in the new edge list)\n",
        "    # For every edge in old edge list:\n",
        "    for j in np.arange(np.shape(edge_list_o)[1]):\n",
        "      # If there is an edge between v1 & v2 in the old edge list\n",
        "      if v1 == edge_list_o[0,j] and v2 == edge_list_o[1,j]:\n",
        "          count_v[k] += 1 # Every element of count should equal 1\n",
        "          # Add jth element of old edge attribute list to new\n",
        "          # edge attribute list:\n",
        "          edge_attr[k] = edge_attr_o[j]\n",
        "  \n",
        "  if np.sum(count_v-1) != 0:\n",
        "    print('Error: There is an edge in the new edge list which is not in the old edge list.')\n",
        "  \n",
        "  return node_list, edge_list, edge_attr\n",
        "\n",
        "# # Test:\n",
        "# num_hops = int(3*N_n)\n",
        "# node_list2, edge_list2, edge_attr2 = f_Random_Walk_Sampler(num_hops,N_n,edge_idx,edge_attr)\n",
        "# print(node_list2)\n",
        "# print(edge_list2)\n",
        "# print(edge_idx)\n",
        "# print(edge_attr)\n",
        "# print(edge_attr2)"
      ],
      "execution_count": 16,
      "outputs": []
    },
    {
      "cell_type": "code",
      "metadata": {
        "id": "3RzzHsEff3mu"
      },
      "source": [
        "# train_loader = NeighborSampler(data.edge_index, node_idx=train_idx, \n",
        "#                                sizes=[15, 10, 5], batch_size=1024, \n",
        "#                                shuffle=True, num_workers=12)"
      ],
      "execution_count": 17,
      "outputs": []
    },
    {
      "cell_type": "markdown",
      "metadata": {
        "id": "Qd5mjefpF_JU"
      },
      "source": [
        "### Define the recurrent graph neural network architectures:"
      ]
    },
    {
      "cell_type": "code",
      "metadata": {
        "id": "kDg-Bv1g0Lq6"
      },
      "source": [
        "import torch\n",
        "import torch.nn.functional as F\n",
        "from torch_geometric_temporal.nn.recurrent import DCRNN\n",
        "from torch_geometric_temporal.nn.recurrent import GConvLSTM\n",
        "from torch_geometric_temporal.nn.attention import ASTGCN\n",
        "\n",
        "# Network using the Diffusion Convolutional Gated Recurrent Unit:\n",
        "class DCRNN_net(torch.nn.Module):\n",
        "    def __init__(self, node_features, n_hidden=32, filter_sz=1):\n",
        "        super(DCRNN_net, self).__init__()\n",
        "        self.recurrent = DCRNN(node_features, n_hidden, filter_sz)\n",
        "        self.linear = torch.nn.Linear(n_hidden, 1)\n",
        "        # self.dropout(x, p=0.5, training=self.training) \n",
        "\n",
        "    def forward(self, x, edge_index, edge_weight):\n",
        "        h = self.recurrent(x, edge_index, edge_weight)\n",
        "        h = F.relu(h)\n",
        "        h = self.linear(h)\n",
        "        return h"
      ],
      "execution_count": 18,
      "outputs": []
    },
    {
      "cell_type": "code",
      "metadata": {
        "id": "GRWBVqImCZ81"
      },
      "source": [
        "# # Unused:\n",
        "\n",
        "# # Network using the Chebyshev Graph Convolutional Long Short Term Memory Cell:\n",
        "# class GConvLSTM_net(torch.nn.Module):\n",
        "#     def __init__(self, node_features, n_hidden=32, filter_sz=1):\n",
        "#         super(GConvLSTM_net, self).__init__()\n",
        "#         self.recurrent = GConvLSTM(node_features, n_hidden, filter_sz)\n",
        "#         self.linear = torch.nn.Linear(n_hidden, 1)\n",
        "#         # self.dropout(x, p=0.5, training=self.training) \n",
        "\n",
        "#     def forward(self, x, edge_index, edge_weight):\n",
        "#         h = self.recurrent(x, edge_index, edge_weight)\n",
        "#         h = F.relu(h)\n",
        "#         h = self.linear(h)\n",
        "#         return h\n",
        "\n",
        "# # Network using the Attention Based Spatial-Temporal Graph Convolutional Cell:\n",
        "# class ASTGCN_net(torch.nn.Module):\n",
        "#     def __init__(self, node_features, n_hidden=32, filter_sz=1):\n",
        "#         super(ASTGCN_net, self).__init__()\n",
        "#         self.recurrent = ASTGCN(node_features, n_hidden, filter_sz)\n",
        "#         self.linear = torch.nn.Linear(n_hidden, 1)\n",
        "#         # self.dropout(x, p=0.5, training=self.training) \n",
        "\n",
        "#     def forward(self, x, edge_index, edge_weight):\n",
        "#         h = self.recurrent(x, edge_index, edge_weight)\n",
        "#         h = F.relu(h)\n",
        "#         h = self.linear(h)\n",
        "#         return h"
      ],
      "execution_count": 19,
      "outputs": []
    },
    {
      "cell_type": "markdown",
      "metadata": {
        "id": "Lor_vZ3eFqjA"
      },
      "source": [
        "### Create a model and train it on the training split:"
      ]
    },
    {
      "cell_type": "code",
      "metadata": {
        "id": "gj46raZcE2y6"
      },
      "source": [
        "from tqdm import tqdm # (for showing progress of training)\n",
        "\n",
        "# Train the model:\n",
        "def f_Train_Model(model,optimizer,train_dataset,N_n,N_f,n_epochs=200):\n",
        "  model.train()\n",
        "\n",
        "  cost_v = np.zeros(n_epochs)\n",
        "  for epoch in tqdm(np.arange(n_epochs)):\n",
        "      cost = 0\n",
        "      for time, snapshot in enumerate(train_dataset):\n",
        "          y_hat = model(snapshot.x, snapshot.edge_index, snapshot.edge_attr)\n",
        "          # Reshape snapshot.y from size N_n to size (N_n,1):\n",
        "          y = torch.from_numpy(np.array(snapshot.y).reshape((N_n,1)))\n",
        "          cost += torch.mean((y_hat-y)**2)\n",
        "      cost /= (time+1)\n",
        "      cost_v[epoch] = cost\n",
        "      cost.backward()\n",
        "      optimizer.step()\n",
        "      optimizer.zero_grad()\n",
        "\n",
        "  return model, cost_v"
      ],
      "execution_count": 20,
      "outputs": []
    },
    {
      "cell_type": "markdown",
      "metadata": {
        "id": "T1grK34njgjV"
      },
      "source": [
        "### Train and test the DCRNN Model:"
      ]
    },
    {
      "cell_type": "code",
      "metadata": {
        "id": "z86OAjiafzgZ",
        "colab": {
          "base_uri": "https://localhost:8080/"
        },
        "outputId": "2e49145b-38f5-464e-a5f8-66448dbe3437"
      },
      "source": [
        "model = DCRNN_net(node_features=N_f)\n",
        "optimizer = torch.optim.Adam(model.parameters(), lr=0.01)\n",
        "model_o, cost_v_o = f_Train_Model(model,optimizer,train_dataset,N_n,N_f,n_epochs=200)"
      ],
      "execution_count": 21,
      "outputs": [
        {
          "output_type": "stream",
          "name": "stderr",
          "text": [
            "100%|██████████| 200/200 [02:31<00:00,  1.32it/s]\n"
          ]
        }
      ]
    },
    {
      "cell_type": "code",
      "metadata": {
        "id": "S6-kbqyc10-3"
      },
      "source": [
        "# Plot cost\n",
        "def f_Plot_Cost(cost_v,xaxis,yaxis,title):\n",
        "  plt.plot(cost_v)\n",
        "  plt.xlabel(xaxis)\n",
        "  plt.ylabel(yaxis)\n",
        "  plt.title(title)\n",
        "  plt.grid('on')"
      ],
      "execution_count": 22,
      "outputs": []
    },
    {
      "cell_type": "code",
      "metadata": {
        "id": "yfBNE_2B38Vr",
        "colab": {
          "base_uri": "https://localhost:8080/",
          "height": 295
        },
        "outputId": "f5a30d3a-6ad4-4168-96cf-0d118c84f256"
      },
      "source": [
        "f1 = plt.figure()\n",
        "f_Plot_Cost(cost_v_o,xaxis='Epoch',yaxis='Cost',title='MSE Cost per Epoch')\n",
        "plt.show()"
      ],
      "execution_count": 23,
      "outputs": [
        {
          "output_type": "display_data",
          "data": {
            "image/png": "[encoded data removed]",
            "text/plain": [
              "<Figure size 432x288 with 1 Axes>"
            ]
          },
          "metadata": {
            "needs_background": "light"
          }
        }
      ]
    },
    {
      "cell_type": "markdown",
      "metadata": {
        "id": "D2nSjWtmFpCC"
      },
      "source": [
        "### Evaluate the performance of the trained model and compute the loss across all the spatial units and time periods:"
      ]
    },
    {
      "cell_type": "code",
      "metadata": {
        "id": "qW6AFo1BFHO2"
      },
      "source": [
        "# Evaluate the model\n",
        "def f_Eval_Model(model,test_dataset,test_time,N_n):\n",
        "  model.eval()\n",
        "  cost = 0 # Average cost for an epoch\n",
        "  tase = 0 # Time-average square error\n",
        "\n",
        "  cost_t = np.zeros(test_time+1) # Array of costs for each time_step\n",
        "  for time, snapshot in enumerate(test_dataset):\n",
        "      y_hat = model(snapshot.x, snapshot.edge_index, snapshot.edge_attr)\n",
        "      # Reshape snapshot.y from size N_n to size (N_n,1):\n",
        "      y = torch.from_numpy(np.array(snapshot.y).reshape((N_n,1)))\n",
        "      error = y_hat - y # Error\n",
        "      tase += error**2 # Time-average square error\n",
        "      cost += torch.mean(error**2) # Add cost for time step to total cost for epoch\n",
        "      cost_t[time] = torch.mean(error**2) # Add cost to array\n",
        "\n",
        "  # Average over time elapsed:\n",
        "  cost /= (time+1)\n",
        "  tase /= (time+1)\n",
        "  cost = cost.item()\n",
        "  tase = tase.detach().cpu().numpy()\n",
        "  \n",
        "  return cost, cost_t, tase"
      ],
      "execution_count": 24,
      "outputs": []
    },
    {
      "cell_type": "code",
      "metadata": {
        "id": "ykXeDVXMTGja",
        "colab": {
          "base_uri": "https://localhost:8080/",
          "height": 590
        },
        "outputId": "f0d09ac7-4d27-4e0a-b2e9-4e3b068c3573"
      },
      "source": [
        "# Test the model:\n",
        "cost_o, cost_t_o, tase_o = f_Eval_Model(model_o,test_dataset,test_time,N_n)\n",
        "\n",
        "f1 = plt.figure()\n",
        "f_Plot_Cost(cost_t_o,xaxis='Time Step',yaxis='Cost',title='MSE Cost per Time')\n",
        "plt.show()\n",
        "\n",
        "f1 = plt.figure()\n",
        "f_Plot_Cost(tase_o,xaxis='Node',yaxis='Cost',title='Average MSE Cost per Node')\n",
        "plt.show()\n",
        "\n",
        "print(\"Average MSE: {:.4f}\".format(cost_o))"
      ],
      "execution_count": 25,
      "outputs": [
        {
          "output_type": "display_data",
          "data": {
            "image/png": "[encoded data removed]",
            "text/plain": [
              "<Figure size 432x288 with 1 Axes>"
            ]
          },
          "metadata": {
            "needs_background": "light"
          }
        },
        {
          "output_type": "display_data",
          "data": {
            "image/png": "[encoded data removed]",
            "text/plain": [
              "<Figure size 432x288 with 1 Axes>"
            ]
          },
          "metadata": {
            "needs_background": "light"
          }
        },
        {
          "output_type": "stream",
          "name": "stdout",
          "text": [
            "Average MSE: 0.7212\n"
          ]
        }
      ]
    },
    {
      "cell_type": "markdown",
      "metadata": {
        "id": "qeX8frQI3_Gq"
      },
      "source": [
        "### Build the Expanded Model"
      ]
    },
    {
      "cell_type": "markdown",
      "metadata": {
        "id": "sokaTqJ9bHx-"
      },
      "source": [
        "Here, we double the number of nodes in the graph in order to model higher-order effects. The new nodes represent the time derivatives of the original nodes. We add edges using Markov assumptions on the relations between positions and velocities."
      ]
    },
    {
      "cell_type": "code",
      "metadata": {
        "id": "HRFk0PiYMomr"
      },
      "source": [
        "# Compute derivatives and concatenate them with states:\n",
        "def f_Concat_Derivatives(x,x_i,y,y_i):\n",
        "  dx = x - x_i # Compute derivative\n",
        "  x_i = x # Update previous state\n",
        "  # Create new prediction vector of x and dx:\n",
        "  X = np.concatenate((x,dx))\n",
        "\n",
        "  dy = y - y_i # Compute derivative\n",
        "  y_i = y # Update previous prediction\n",
        "  # Create new prediction vector of y and dy:\n",
        "  Y = np.concatenate((y,dy))\n",
        "\n",
        "  return X, Y, x_i, y_i"
      ],
      "execution_count": 26,
      "outputs": []
    },
    {
      "cell_type": "code",
      "metadata": {
        "id": "j9PxdQMlogwc"
      },
      "source": [
        "# Train Model, with options to expand the graph and sample\n",
        "def f_Train_Model_V2(model,optimizer,train_dataset,N_n,N_f,n_epochs=200,expand=0,sa=0,sampler=0,num_hops=2*N_n,k=int(0.5*N_n)):\n",
        "  # INPUTS:\n",
        "    # Model: neural net model type\n",
        "    # optimizer: optimizer type (e.g. Adam)\n",
        "    # train_datest: training data\n",
        "    # N_n: number of nodes in the original graph\n",
        "    # N_f: number of features\n",
        "  \n",
        "    # HYPERPARAMETERS:\n",
        "    # n_epochs: Number of training epochs\n",
        "    # expand (indicator variable):\n",
        "      # 1 if the graph will be expanded\n",
        "      # 0 if not\n",
        "    # sa (indicator variable):\n",
        "      # 1 if the v nodes in the expanded graph are fully connected with each other\n",
        "      # 0 if the v nodes in the expanded graph follow the same connectivity\n",
        "      # pattern as in the original graph\n",
        "    # sampler (indicator variable):\n",
        "      # 0 if no sampler will be used\n",
        "      # 1 if the k-edge deletion sampler will be used\n",
        "      # 2 if the random-walk sampler will be used\n",
        "    # num_hops: Number of hops per iteration in the random walk sampler\n",
        "    # k: Number of edges to randomly drop per iteration in k-edge deletion sampler\n",
        "\n",
        "  # OUTPUTS:\n",
        "    # model: trained model\n",
        "    # cost_v: array of MSE cost at each epoch\n",
        "    # cost1_v: array of MSE cost at each epoch for the original features\n",
        "    # cost2_v: array of MSE cost at each epoch for the new features\n",
        "      # (if the graph has not been unexpanded, this is an array of 0s)\n",
        "\n",
        "  model.train()\n",
        "\n",
        "  cost_v = np.zeros(n_epochs) # Initialize array of average costs per epoch\n",
        "  cost1_v = np.zeros(n_epochs) # Initialize array of costs for original nodes\n",
        "  cost2_v = np.zeros(n_epochs) # Initialize array of costs for new nodes\n",
        "\n",
        "  for epoch in tqdm(np.arange(n_epochs)):\n",
        "      cost = 0 # Total cost for epoch\n",
        "      if expand == 1: # Expand the graph\n",
        "        cost1 = 0 # Cost for original nodes\n",
        "        cost2 = 0 # Cost for new nodes\n",
        "\n",
        "      for time, snapshot in enumerate(train_dataset):\n",
        "\n",
        "          edge_index = np.array(snapshot.edge_index) # Np array of edge list\n",
        "          edge_attr = np.array(snapshot.edge_attr) # Np array of edge attributes\n",
        "\n",
        "          if expand == 1: # Expand the graph\n",
        "\n",
        "            # Get current x, y, edge list, edge attribute list:\n",
        "            x = np.array(snapshot.x)\n",
        "            y = np.array(snapshot.y)\n",
        "\n",
        "            # Initialize the previous state to the first state, so that\n",
        "            # the first derivative is zero.\n",
        "            if time == 0:\n",
        "              x_i = x\n",
        "              y_i = y\n",
        "\n",
        "            # Compute derivatives and concatenate them with states:\n",
        "            x2, y2, x_i, y_i = f_Concat_Derivatives(x,x_i,y,y_i)\n",
        "\n",
        "            x2 = torch.from_numpy(x2).type(torch.FloatTensor)\n",
        "            # Reshape snapshot.y from size N_n to size (N_n,1):\n",
        "            y2 = torch.from_numpy(y2.reshape((2*N_n,1)))\n",
        "\n",
        "            # Expand the graph (doubles nodes and roughly doubles edges)\n",
        "            edge_index_2, edge_attr_2, _ = f_Expand_Graph(N_n,edge_index,sa=sa)\n",
        "\n",
        "          else: # Don't expand the graph\n",
        "            x2 = snapshot.x\n",
        "            # Reshape snapshot.y from size N_n to size (N_n,1):\n",
        "            y2 = torch.from_numpy(np.array(snapshot.y).reshape((N_n,1)))\n",
        "\n",
        "            edge_index_2 = edge_index\n",
        "            edge_attr_2 = edge_attr\n",
        "\n",
        "          if sampler == 1: # Use k-edge deletion sampler\n",
        "            # Randomly delete k edges:\n",
        "            edge_index_2, edge_attr_2 = f_delete_k_edges(edge_index_2,edge_attr_2,k)\n",
        "\n",
        "          elif sampler == 2: # Use random walk sampler\n",
        "            _, edge_index_2, edge_attr_2 = f_Random_Walk_Sampler(num_hops,N_n,edge_index_2,edge_attr_2)\n",
        "\n",
        "          else: # Use full graph (no sampling)\n",
        "            pass\n",
        "\n",
        "          # Convert to tensors:\n",
        "          edge_index = torch.from_numpy(edge_index_2)\n",
        "          edge_attr = torch.from_numpy(edge_attr_2).type(torch.FloatTensor)\n",
        "\n",
        "          y2_hat = model(x2, edge_index, edge_attr) # Predicted y2\n",
        "\n",
        "          # Errors:\n",
        "          error = y2_hat-y2\n",
        "\n",
        "          # MSE Costs:\n",
        "          cost += torch.mean(error**2)\n",
        "\n",
        "          if expand == 1:\n",
        "            error1 = error[0:N_n,:]\n",
        "            error2 = error[N_n:,:]\n",
        "\n",
        "            cost1 += torch.mean(error1**2)\n",
        "            cost2 += torch.mean(error2**2)\n",
        "\n",
        "      cost /= (time+1) # Average cost over all time steps\n",
        "      cost_v[epoch] = cost # Add average epoch costs to array\n",
        "\n",
        "      if expand == 1: # If graph was expanded\n",
        "        # Average costs over all time steps:\n",
        "        cost1 /= (time+1)\n",
        "        cost2 /= (time+1)\n",
        "        # Add average epoch costs to arrays:\n",
        "        cost1_v[epoch] = cost1\n",
        "        cost2_v[epoch] = cost2\n",
        "      else: # If graph was not expanded\n",
        "        cost1_v[epoch] = cost # cost1_v = cost_v (since there are no new nodes)\n",
        "\n",
        "      # Backprop:\n",
        "      cost.backward()\n",
        "      optimizer.step()\n",
        "      optimizer.zero_grad() # Zero out gradient\n",
        "\n",
        "  return model, cost_v, cost1_v, cost2_v"
      ],
      "execution_count": 27,
      "outputs": []
    },
    {
      "cell_type": "code",
      "metadata": {
        "id": "vQRGGbfvSmu8"
      },
      "source": [
        "# Evaluate the (expanded) model\n",
        "def f_Eval_Model_V2(model,test_dataset,test_time,N_n,expand=0):\n",
        "# INPUTS:\n",
        "#   model: neural net model type\n",
        "#   test_dataset: testing data\n",
        "#   test_time: number of time steps in test dataset\n",
        "#   N_n: number of nodes in original graph\n",
        "#   expand (indicator variable):\n",
        "      # 1 if the graph was expanded during training\n",
        "      # 0 if not\n",
        "\n",
        "# OUTPUTS:\n",
        "#   cost: Average cost for an epoch\n",
        "#   cost1: Average cost for original nodes for an epoch\n",
        "#   cost2: Average cost for new nodes for an epoch\n",
        "#   cost_t: Time history of costs\n",
        "#   cost1_t: Time history of costs for original nodes\n",
        "#   cost2_t: Time history of costs for new nodes\n",
        "#   tase: Time-average squared error for each node\n",
        "#   tase1: Time-average squared error for each original node\n",
        "#   tase2: Time-average squared error for each new node\n",
        "\n",
        "  model.eval()\n",
        "  cost = 0 # Average cost for an epoch\n",
        "  tase = 0 # Time-average square error\n",
        "\n",
        "  # Vars for old nodes and new nodes:\n",
        "  cost1 = 0\n",
        "  cost2 = 0\n",
        "  tase1 = 0\n",
        "  tase2 = 0\n",
        "\n",
        "  cost_t = np.zeros(test_time+1) # Array of costs for each time_step\n",
        "  cost1_t = np.zeros(test_time+1) # Array of costs for each time_step\n",
        "  cost2_t = np.zeros(test_time+1) # Array of costs for each time_step\n",
        "  for time, snapshot in enumerate(test_dataset):\n",
        "      y_hat = model(snapshot.x, snapshot.edge_index, snapshot.edge_attr)\n",
        "      # Reshape snapshot.y from size N_n to size (N_n,1):\n",
        "      y = torch.from_numpy(np.array(snapshot.y).reshape((N_n,1)))\n",
        "      error = y_hat - y # Error\n",
        "      tase += error**2 # Time-average square error\n",
        "      cost += torch.mean(error**2) # Add cost for time step to total cost for epoch\n",
        "      cost_t[time] = torch.mean(error**2) # Add cost to array\n",
        "\n",
        "      if expand == 1: # If graph was expanded\n",
        "        error1 = error[0:N_n]\n",
        "        error2 = error[N_n:]\n",
        "        cost1 += torch.mean(error1**2)\n",
        "        cost2 += torch.mean(error2**2)\n",
        "        cost1_t[time] = torch.mean(error1**2)\n",
        "        cost2_t[time] = torch.mean(error2**2)\n",
        "        tase1 += error1**2\n",
        "        tase2 += error2**2\n",
        "\n",
        "  # Average over time elapsed:\n",
        "  cost /= (time+1)\n",
        "  tase /= (time+1)\n",
        "  cost = cost.item()\n",
        "  tase = tase.detach().cpu().numpy()\n",
        "\n",
        "  if expand == 1:\n",
        "    cost1 /= (time+1)\n",
        "    tase1 /= (time+1)\n",
        "    cost1 = cost1.item()\n",
        "    cost2 /= (time+1)\n",
        "    tase2 /= (time+1)\n",
        "    cost2 = cost2.item()\n",
        "    tase1 = tase1.detach().cpu().numpy()\n",
        "    tase2 = tase2.detach().cpu().numpy()\n",
        "  \n",
        "  return cost, cost1, cost2, cost_t, cost1_t, cost2_t, tase, tase1, tase2"
      ],
      "execution_count": 28,
      "outputs": []
    },
    {
      "cell_type": "markdown",
      "metadata": {
        "id": "1DKTVEpIJPBm"
      },
      "source": [
        "### Test the Sampling Functions:"
      ]
    },
    {
      "cell_type": "markdown",
      "metadata": {
        "id": "obMV4xbRK5iO"
      },
      "source": [
        "Testing Sampler 1 (deleting k edges at random at each iteration):"
      ]
    },
    {
      "cell_type": "code",
      "metadata": {
        "id": "9lGkXWV8JRAb",
        "colab": {
          "base_uri": "https://localhost:8080/"
        },
        "outputId": "054c8965-ce04-4310-e180-806652fceee3"
      },
      "source": [
        "from tqdm import tqdm\n",
        "\n",
        "model = DCRNN_net(node_features=N_f)\n",
        "optimizer = torch.optim.Adam(model.parameters(), lr=0.01)\n",
        "k = int(0.5*N_n) # Delete half of the edges at each iteration\n",
        "model_s1, cost_v_s1, cost1_v_s1, cost2_v_s1 = f_Train_Model_V2(model,optimizer,train_dataset,N_n,N_f=4,n_epochs=200,expand=0,sa=0,sampler=1,num_hops=N_n,k=k)"
      ],
      "execution_count": 29,
      "outputs": [
        {
          "output_type": "stream",
          "name": "stderr",
          "text": [
            "100%|██████████| 200/200 [02:43<00:00,  1.22it/s]\n"
          ]
        }
      ]
    },
    {
      "cell_type": "code",
      "metadata": {
        "id": "bU9EoOugKIwj",
        "colab": {
          "base_uri": "https://localhost:8080/",
          "height": 344
        },
        "outputId": "39577b07-e14e-4ae5-d14e-7a9760b5655e"
      },
      "source": [
        "f1 = plt.figure()\n",
        "f_Plot_Cost(cost_v_o,xaxis='Epoch',yaxis='Cost',title='MSE Cost per Epoch')\n",
        "f_Plot_Cost(cost1_v_s1,xaxis='Epoch',yaxis='Cost',title='MSE Cost per Epoch')\n",
        "plt.grid('on')\n",
        "f1.legend(['Without Sampling', 'With k-edge Deletion Sampling'])\n",
        "plt.show()\n",
        "\n",
        "# Test the model:\n",
        "cost_s1, cost_t_s1, tase_s1 = f_Eval_Model(model_s1,test_dataset,test_time,N_n)\n",
        "\n",
        "print(\"Average Testing MSE for Original Model: {:.4f}\".format(cost_o))\n",
        "print(\"Average Testing MSE for Sampled Model: {:.4f}\".format(cost_s1))"
      ],
      "execution_count": 30,
      "outputs": [
        {
          "output_type": "display_data",
          "data": {
            "image/png": "[encoded data removed]",
            "text/plain": [
              "<Figure size 432x288 with 1 Axes>"
            ]
          },
          "metadata": {
            "needs_background": "light"
          }
        },
        {
          "output_type": "stream",
          "name": "stdout",
          "text": [
            "Average Testing MSE for Original Model: 0.7212\n",
            "Average Testing MSE for Sampled Model: 0.7220\n"
          ]
        }
      ]
    },
    {
      "cell_type": "markdown",
      "metadata": {
        "id": "E9_aqGBVLbYM"
      },
      "source": [
        "Test Sampler 2 (using a random walk to generate a subgaph at each iteration):"
      ]
    },
    {
      "cell_type": "code",
      "metadata": {
        "id": "VC_dI9xtJ0fZ",
        "colab": {
          "base_uri": "https://localhost:8080/"
        },
        "outputId": "414384f9-cb69-4a84-b266-8322fe890013"
      },
      "source": [
        "from tqdm import tqdm\n",
        "\n",
        "model = DCRNN_net(node_features=N_f)\n",
        "optimizer = torch.optim.Adam(model.parameters(), lr=0.01)\n",
        "num_hops = N_n # The number of steps in the random walk is equal to the number of nodes\n",
        "model_s2, cost_v_s2, cost1_v_s2, cost2_v_s2 = f_Train_Model_V2(model,optimizer,train_dataset,N_n,N_f=4,n_epochs=200,expand=0,sa=0,sampler=2,num_hops=num_hops,k=int(0.5*N_n))"
      ],
      "execution_count": 31,
      "outputs": [
        {
          "output_type": "stream",
          "name": "stderr",
          "text": [
            "100%|██████████| 200/200 [06:02<00:00,  1.81s/it]\n"
          ]
        }
      ]
    },
    {
      "cell_type": "code",
      "metadata": {
        "id": "m0rjFkHrKyRC",
        "colab": {
          "base_uri": "https://localhost:8080/",
          "height": 344
        },
        "outputId": "5153e362-6241-42df-8b32-d1090c7a632b"
      },
      "source": [
        "f1 = plt.figure()\n",
        "f_Plot_Cost(cost_v_o,xaxis='Epoch',yaxis='Cost',title='MSE Cost per Epoch')\n",
        "f_Plot_Cost(cost1_v_s2,xaxis='Epoch',yaxis='Cost',title='MSE Cost per Epoch')\n",
        "plt.grid('on')\n",
        "f1.legend(['Without Sampling', 'With Random-Walk Sampling'])\n",
        "plt.show()\n",
        "\n",
        "# Test the model:\n",
        "cost_s2, cost_t_s2, tase_s2 = f_Eval_Model(model_s2,test_dataset,test_time,N_n)\n",
        "\n",
        "print(\"Average Testing MSE for Original Model: {:.4f}\".format(cost_o))\n",
        "print(\"Average Testing MSE for Sampled Model: {:.4f}\".format(cost_s2))"
      ],
      "execution_count": 32,
      "outputs": [
        {
          "output_type": "display_data",
          "data": {
            "image/png": "[encoded data removed]",
            "text/plain": [
              "<Figure size 432x288 with 1 Axes>"
            ]
          },
          "metadata": {
            "needs_background": "light"
          }
        },
        {
          "output_type": "stream",
          "name": "stdout",
          "text": [
            "Average Testing MSE for Original Model: 0.7212\n",
            "Average Testing MSE for Sampled Model: 0.7189\n"
          ]
        }
      ]
    },
    {
      "cell_type": "markdown",
      "metadata": {
        "id": "CuYYcJEvLRPz"
      },
      "source": [
        "Note: Training with sampling actually take longer than without sampling, due to the cost of running the samplers."
      ]
    },
    {
      "cell_type": "markdown",
      "metadata": {
        "id": "d_TonAyVGz-R"
      },
      "source": [
        "### Test the performance of the Expanded Model:"
      ]
    },
    {
      "cell_type": "code",
      "metadata": {
        "id": "QBq9Rc3pX6gQ",
        "colab": {
          "base_uri": "https://localhost:8080/"
        },
        "outputId": "e934d2f2-2874-4b1c-8ff2-928af1e014e1"
      },
      "source": [
        "from tqdm import tqdm\n",
        "\n",
        "model = DCRNN_net(node_features=N_f)\n",
        "optimizer = torch.optim.Adam(model.parameters(), lr=0.01)\n",
        "model_e, cost_v_e, cost1_v_e, cost2_v_e = f_Train_Model_V2(model,optimizer,train_dataset,N_n,N_f=4,n_epochs=200,expand=1,sa=0,sampler=0,num_hops=2*N_n,k=int(0.5*N_n))"
      ],
      "execution_count": 33,
      "outputs": [
        {
          "output_type": "stream",
          "name": "stderr",
          "text": [
            "100%|██████████| 200/200 [05:49<00:00,  1.75s/it]\n"
          ]
        }
      ]
    },
    {
      "cell_type": "code",
      "metadata": {
        "id": "HHfvXtfaTAHN",
        "colab": {
          "base_uri": "https://localhost:8080/",
          "height": 309
        },
        "outputId": "9a03eb43-5a4d-4483-9ed0-b404cf4c5c81"
      },
      "source": [
        "# f_Plot_Cost(cost_v,xaxis='Epoch',yaxis='Cost',title='MSE Cost per Epoch')\n",
        "\n",
        "f1 = plt.figure()\n",
        "f_Plot_Cost(cost_v_o,xaxis='Epoch',yaxis='Cost',title='MSE Cost per Epoch')\n",
        "f_Plot_Cost(cost1_v_e,xaxis='Epoch',yaxis='Cost',title='MSE Cost per Epoch')\n",
        "plt.grid('on')\n",
        "f1.legend(['Original Graph', 'Expanded Graph'])\n",
        "plt.show()"
      ],
      "execution_count": 34,
      "outputs": [
        {
          "output_type": "display_data",
          "data": {
            "image/png": "[encoded data removed]",
            "text/plain": [
              "<Figure size 432x288 with 1 Axes>"
            ]
          },
          "metadata": {
            "needs_background": "light"
          }
        }
      ]
    },
    {
      "cell_type": "code",
      "metadata": {
        "id": "z37qmP6FQnLP",
        "colab": {
          "base_uri": "https://localhost:8080/",
          "height": 608
        },
        "outputId": "6e186bd8-5bd1-4fae-ce9b-de4d650bba98"
      },
      "source": [
        "# Test the model:\n",
        "# cost_e, cost_t_e, tase_e = f_Eval_Model(model_e,test_dataset,test_time,N_n)\n",
        "cost_e, cost1_e, cost2_e, cost_t_e, cost1_t_e, cost2_t_e, tase_e, tase1_e, tase2_e = f_Eval_Model_V2(model_e,test_dataset,test_time,N_n,expand=1)\n",
        "f1 = plt.figure()\n",
        "f_Plot_Cost(cost1_t_e,xaxis='Time Step',yaxis='Cost',title='MSE Cost per Time')\n",
        "plt.show()\n",
        "\n",
        "f1 = plt.figure()\n",
        "f_Plot_Cost(tase1_e,xaxis='Node',yaxis='Cost',title='Average MSE Cost per Node')\n",
        "plt.show()\n",
        "\n",
        "print(\"Average Testing MSE for Original Model: {:.4f}\".format(cost_o))\n",
        "print(\"Average Testing MSE for Expanded Model: {:.4f}\".format(cost_e))"
      ],
      "execution_count": 35,
      "outputs": [
        {
          "output_type": "display_data",
          "data": {
            "image/png": "[encoded data removed]",
            "text/plain": [
              "<Figure size 432x288 with 1 Axes>"
            ]
          },
          "metadata": {
            "needs_background": "light"
          }
        },
        {
          "output_type": "display_data",
          "data": {
            "image/png": "[encoded data removed]",
            "text/plain": [
              "<Figure size 432x288 with 1 Axes>"
            ]
          },
          "metadata": {
            "needs_background": "light"
          }
        },
        {
          "output_type": "stream",
          "name": "stdout",
          "text": [
            "Average Testing MSE for Original Model: 0.7212\n",
            "Average Testing MSE for Expanded Model: 0.7820\n"
          ]
        }
      ]
    },
    {
      "cell_type": "markdown",
      "metadata": {
        "id": "T_oURQqK5OKh"
      },
      "source": [
        "### Adaptive GNN"
      ]
    },
    {
      "cell_type": "markdown",
      "metadata": {
        "id": "i9KO1P2zbZok"
      },
      "source": [
        "Here, we build a GNN model which iteratively expands during training. After training the original network, we select the node with the worst average cost and expand it into two nodes: one representing the original state, and the other representing its time derivative. We then restart training (not strictly necessary, but easier implementation). We continue for several iterations."
      ]
    },
    {
      "cell_type": "code",
      "metadata": {
        "id": "riMkBhCCkzQ3"
      },
      "source": [
        "# Compute derivatives and concatenate them with states:\n",
        "def f_Concat_Derivatives_V2(x,x_expand,x_i,y,y_expand,y_i):\n",
        "\n",
        "  dx = x_expand - x_i # Compute derivative\n",
        "  x_i = x_expand # Update previous state\n",
        "  # Create new state vector of x and dx:\n",
        "  X = np.concatenate((x,dx))\n",
        "\n",
        "  dy = y_expand - y_i # Compute derivative\n",
        "  y_i = y_expand # Update previous prediction\n",
        "  # Create new prediction vector of y and dy:\n",
        "  Y = np.concatenate((y,dy))\n",
        "\n",
        "  return X, Y, x_i, y_i"
      ],
      "execution_count": 36,
      "outputs": []
    },
    {
      "cell_type": "code",
      "metadata": {
        "id": "OhITMv58ayzo"
      },
      "source": [
        "# Train Model, with options to expand the graph and sample\n",
        "def f_Train_Model_V3(model,optimizer,train_dataset,expand_node_v,N_n,N_f,n_epochs=200,expand=1,sa=0,sampler=0,num_hops=2*N_n,k=int(0.5*N_n)):\n",
        "  # INPUTS:\n",
        "    # Model: neural net model type\n",
        "    # optimizer: optimizer type (e.g. Adam)\n",
        "    # train_datest: training data\n",
        "    # expand_node_v: list of nodes to expand\n",
        "    # N_n: number of nodes in the original graph\n",
        "    # N_f: number of features\n",
        "  \n",
        "    # HYPERPARAMETERS:\n",
        "    # n_epochs: Number of training epochs\n",
        "    # expand (indicator variable):\n",
        "      # 1 if the graph will be expanded\n",
        "      # 0 if not\n",
        "    # sa (indicator variable):\n",
        "      # 1 if the v nodes in the expanded graph are fully connected with each other\n",
        "      # 0 if the v nodes in the expanded graph follow the same connectivity\n",
        "      # pattern as in the original graph\n",
        "    # sampler (indicator variable):\n",
        "      # 0 if no sampler will be used\n",
        "      # 1 if the k-edge deletion sampler will be used\n",
        "      # 2 if the random-walk sampler will be used\n",
        "    # num_hops: Number of hops per iteration in the random walk sampler\n",
        "    # k: Number of edges to randomly drop per iteration in k-edge deletion sampler\n",
        "\n",
        "  # OUTPUTS:\n",
        "    # model: trained model\n",
        "    # cost_v: array of MSE cost at each epoch\n",
        "    # cost1_v: array of MSE cost at each epoch for the original features\n",
        "    # cost2_v: array of MSE cost at each epoch for the new features\n",
        "      # (if the graph has not been unexpanded, this is an array of 0s)\n",
        "    # edge_list_2: updated_edge_list (after expanding)\n",
        "\n",
        "  model.train()\n",
        "\n",
        "  cost_v = np.zeros(n_epochs) # Initialize array of average costs per epoch\n",
        "  cost1_v = np.zeros(n_epochs) # Initialize array of costs for original nodes\n",
        "  cost2_v = np.zeros(n_epochs) # Initialize array of costs for new nodes\n",
        "\n",
        "  for epoch in tqdm(np.arange(n_epochs)):\n",
        "      cost = 0 # Total cost for epoch\n",
        "      \n",
        "      if expand == 1: # Expand the graph\n",
        "        cost1 = 0 # Cost for original nodes\n",
        "        cost2 = 0 # Cost for new nodes\n",
        "\n",
        "      for time, snapshot in enumerate(train_dataset):\n",
        "\n",
        "        # Get current x, y, edge list, edge attribute list:\n",
        "        x = np.array(snapshot.x)\n",
        "        y = np.array(snapshot.y)\n",
        "\n",
        "        edge_index = np.array(snapshot.edge_index) # Np array of edge list\n",
        "        edge_attr = np.array(snapshot.edge_attr) # Np array of edge attributes\n",
        "\n",
        "        if expand == 1: # Expand the graph\n",
        "\n",
        "          # Expand the graph\n",
        "          edge_index, edge_attr, _, _ = f_Expand_N_Nodes(N_n,edge_index,edge_attr,expand_node_v,sa=sa)\n",
        "\n",
        "          x_expand = x[expand_node_v,:]\n",
        "          y_expand = y[expand_node_v]\n",
        "\n",
        "          # Initialize the previous state to the first state, so that\n",
        "          # the first derivative is zero.\n",
        "          if time == 0:\n",
        "            x_i = x_expand\n",
        "            y_i = y_expand\n",
        "\n",
        "          X, Y, x_i, y_i = f_Concat_Derivatives_V2(x,x_expand,x_i,y,y_expand,y_i)\n",
        "\n",
        "          X = torch.from_numpy(X).type(torch.FloatTensor)\n",
        "          # Reshape snapshot.y:\n",
        "          Y = torch.from_numpy(Y.reshape((N_n+np.shape(expand_node_v)[0],1)))\n",
        "\n",
        "        else:\n",
        "          X = x\n",
        "          Y = y\n",
        "\n",
        "          X = torch.from_numpy(X).type(torch.FloatTensor)\n",
        "          # Reshape snapshot.y:\n",
        "          Y = torch.from_numpy(Y.reshape((N_n,1)))\n",
        "\n",
        "\n",
        "        if sampler == 1: # Use k-edge deletion sampler\n",
        "          # Randomly delete k edges:\n",
        "          edge_index, edge_attr = f_delete_k_edges(edge_index,edge_attr,k)\n",
        "\n",
        "        elif sampler == 2: # Use random walk sampler\n",
        "          _, edge_index, edge_attr = f_Random_Walk_Sampler(num_hops,N_n,edge_index,edge_attr)\n",
        "\n",
        "        else: # Use full graph (no sampling)\n",
        "          pass\n",
        "\n",
        "        # Convert to tensors:\n",
        "        edge_index = torch.from_numpy(edge_index)\n",
        "        edge_attr = torch.from_numpy(edge_attr).type(torch.FloatTensor)\n",
        "\n",
        "        Y_hat = model(X, edge_index, edge_attr) # Predicted Y\n",
        "\n",
        "        # Errors:\n",
        "        error = Y_hat-Y\n",
        "\n",
        "        # MSE Costs:\n",
        "        cost += torch.mean(error**2)\n",
        "\n",
        "        if expand == 1:\n",
        "          error1 = error[0:N_n,:]\n",
        "          error2 = error[N_n:,:]\n",
        "\n",
        "          cost1 += torch.mean(error1**2)\n",
        "          cost2 += torch.mean(error2**2)\n",
        "\n",
        "      cost /= (time+1) # Average cost over all time steps\n",
        "      cost_v[epoch] = cost # Add average epoch costs to array\n",
        "\n",
        "      if expand == 1: # If graph was expanded\n",
        "        # Average costs over all time steps:\n",
        "        cost1 /= (time+1)\n",
        "        cost2 /= (time+1)\n",
        "        # Add average epoch costs to arrays:\n",
        "        cost1_v[epoch] = cost1\n",
        "        cost2_v[epoch] = cost2\n",
        "      else: # If graph was not expanded\n",
        "        cost1_v[epoch] = cost # cost1_v = cost_v (since there are no new nodes)\n",
        "\n",
        "      # Backprop:\n",
        "      cost.backward()\n",
        "      optimizer.step()\n",
        "      optimizer.zero_grad() # Zero out gradient\n",
        "\n",
        "  return model, cost_v, cost1_v, cost2_v, edge_index"
      ],
      "execution_count": 37,
      "outputs": []
    },
    {
      "cell_type": "code",
      "metadata": {
        "id": "O3f3ixy0_Z_u"
      },
      "source": [
        "# This function iteratively expands the GNN:\n",
        "# At each iteration, the node with the highest time-average testing cost\n",
        "# is expanded into 2 nodes. (Only nodes from the original graph are expanded, so\n",
        "# there are a maximum of N_n expansions, where N_n is the number of nodes in\n",
        "# the original graph.)\n",
        "def f_Adaptive_GNN(model,optimizer,train_dataset,N_n,N_f,n_epochs,N_expansions,sa,sampler,num_hops,k):\n",
        " # INPUTS:\n",
        "    # model: neural net model type\n",
        "    # optimizer: optimizer type (e.g. Adam)\n",
        "    # train_datest: training data\n",
        "    # N_n: number of nodes in the original graph\n",
        "    # N_f: number of features\n",
        "  \n",
        "    # HYPERPARAMETERS:\n",
        "    # n_epochs: Number of training epochs\n",
        "    # N_expansions: Max number of graph expansions to try\n",
        "    # sa (indicator variable):\n",
        "      # 1 if the v nodes in the expanded graph are fully connected with each other\n",
        "      # 0 if the v nodes in the expanded graph follow the same connectivity\n",
        "      # pattern as in the original graph\n",
        "    # sampler (indicator variable):\n",
        "      # 0 if no sampler will be used\n",
        "      # 1 if the k-edge deletion sampler will be used\n",
        "      # 2 if the random-walk sampler will be used\n",
        "    # num_hops: Number of hops per iteration in the random walk sampler\n",
        "    # k: Number of edges to randomly drop per iteration in k-edge deletion sampler\n",
        "\n",
        "  # OUTPUTS:\n",
        "    # cost_vector: Array of MSE testing costs for each GNN architecture\n",
        "\n",
        "  expand_node_v = [] # List of nodes to expand\n",
        "  # Train the unexpanded model:\n",
        "  model_a1, cost_v_a1, _, _= f_Train_Model_V2(model,optimizer,train_dataset,N_n,N_f=N_f,n_epochs=n_epochs,expand=0,sa=sa,sampler=sampler,num_hops=num_hops,k=k)\n",
        "  cost_a1, cost_t_a1, tase_a1 = f_Eval_Model(model_a1,test_dataset,test_time,N_n) # Evaluate the model\n",
        "  cost_vector = [cost_a1] # Add the MSE testing cost to an array\n",
        "\n",
        "  tase_a = tase_a1 # Set time-average square error to first value\n",
        "  for i in np.arange(N_expansions): # Expand the graph N_expansions time\n",
        "    expand_node = np.argmax(tase_a) # Find the node with the worst testing time-average cost for the previous model\n",
        "    expand_node_v.append(expand_node) # Add this node to expand_node_v\n",
        "    # Train the expanded model:\n",
        "    model_a, cost_v_a, cost1_v_a, cost2_v_a, _ = f_Train_Model_V3(model,optimizer,train_dataset,expand_node_v,N_n,N_f=N_f,n_epochs=n_epochs,expand=1,sa=sa,sampler=sampler,num_hops=num_hops,k=k)\n",
        "    cost_a, cost_t_a, tase_a = f_Eval_Model(model_a1,test_dataset,test_time,N_n) # Evaluate the model\n",
        "    cost_vector.append(cost_a) # Append the MSE testing cost\n",
        "\n",
        "  return cost_vector"
      ],
      "execution_count": 38,
      "outputs": []
    },
    {
      "cell_type": "markdown",
      "metadata": {
        "id": "92eIKk9gHNPF"
      },
      "source": [
        "### Test the Adaptive GNN Algorithm:"
      ]
    },
    {
      "cell_type": "code",
      "metadata": {
        "id": "fHMlG7FvGgeK",
        "colab": {
          "base_uri": "https://localhost:8080/"
        },
        "outputId": "2626c1ca-94e9-4bfd-8c5d-7a42b70aa9b1"
      },
      "source": [
        "from tqdm import tqdm\n",
        "\n",
        "model = DCRNN_net(node_features=N_f)\n",
        "optimizer = torch.optim.Adam(model.parameters(), lr=0.01)\n",
        "N_f = 4\n",
        "n_epochs = 100\n",
        "sa=0\n",
        "sampler=0\n",
        "num_hops=2*N_n\n",
        "k=int(0.5*N_n)\n",
        "N_expansions = 5\n",
        "\n",
        "cost_vector = f_Adaptive_GNN(model,optimizer,train_dataset,N_n,N_f,n_epochs,N_expansions,sa,sampler,num_hops,k)"
      ],
      "execution_count": 41,
      "outputs": [
        {
          "output_type": "stream",
          "name": "stderr",
          "text": [
            "100%|██████████| 100/100 [01:16<00:00,  1.31it/s]\n",
            "100%|██████████| 100/100 [02:08<00:00,  1.29s/it]\n",
            "100%|██████████| 100/100 [02:54<00:00,  1.75s/it]\n",
            "100%|██████████| 100/100 [03:46<00:00,  2.26s/it]\n",
            "100%|██████████| 100/100 [04:37<00:00,  2.78s/it]\n",
            "100%|██████████| 100/100 [05:32<00:00,  3.32s/it]\n"
          ]
        }
      ]
    },
    {
      "cell_type": "code",
      "metadata": {
        "id": "ejoLDS78C9Fm",
        "colab": {
          "base_uri": "https://localhost:8080/",
          "height": 295
        },
        "outputId": "1c7ca314-0961-479c-ac59-aad1e8abcf62"
      },
      "source": [
        "f1 = plt.figure()\n",
        "f_Plot_Cost(cost_vector,xaxis='Expanded Nodes',yaxis='Cost',title='Final MSE Cost for Expanded Graph Architectures')\n",
        "plt.grid('on')\n",
        "plt.show()"
      ],
      "execution_count": 42,
      "outputs": [
        {
          "output_type": "display_data",
          "data": {
            "image/png": "[encoded data removed]",
            "text/plain": [
              "<Figure size 432x288 with 1 Axes>"
            ]
          },
          "metadata": {
            "needs_background": "light"
          }
        }
      ]
    }
  ]
}