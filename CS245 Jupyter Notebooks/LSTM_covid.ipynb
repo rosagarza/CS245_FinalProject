{
  "nbformat": 4,
  "nbformat_minor": 0,
  "metadata": {
    "colab": {
      "name": "LSTM_covid2.ipynb",
      "provenance": [],
      "collapsed_sections": []
    },
    "kernelspec": {
      "name": "python3",
      "display_name": "Python 3"
    },
    "language_info": {
      "name": "python"
    },
    "accelerator": "GPU"
  },
  "cells": [
    {
      "cell_type": "code",
      "metadata": {
        "id": "uLnMA76CmaDk",
        "colab": {
          "base_uri": "https://localhost:8080/"
        },
        "outputId": "b2b85d5c-32a5-49d6-e801-3673c66d42f2"
      },
      "source": [
        "from google.colab import drive\n",
        "drive.mount('/content/drive')"
      ],
      "execution_count": null,
      "outputs": [
        {
          "output_type": "stream",
          "name": "stdout",
          "text": [
            "Mounted at /content/drive\n"
          ]
        }
      ]
    },
    {
      "cell_type": "code",
      "metadata": {
        "id": "QdOqikLymooj"
      },
      "source": [
        "import os\n",
        "import numpy as np\n",
        "import matplotlib.pyplot as plt\n",
        "from mpl_toolkits.mplot3d import Axes3D\n",
        "\n",
        "%matplotlib inline\n",
        "\n",
        "import torch\n",
        "from torch.autograd import Variable\n",
        "import torch.nn as nn\n",
        "import torch.optim as optim\n",
        "import torch.nn.functional as F\n",
        "import torch.utils.data as torchdata\n",
        "from sklearn.model_selection import train_test_split\n",
        "\n",
        "device = torch.device('cuda:0' if torch.cuda.is_available() else 'cpu')\n",
        "torch.set_default_tensor_type('torch.cuda.DoubleTensor')"
      ],
      "execution_count": null,
      "outputs": []
    },
    {
      "cell_type": "code",
      "metadata": {
        "id": "SfLJvofKVROM"
      },
      "source": [
        "os.system('clear')\n",
        "# Import Data\n",
        "PROJECT_ROOT = \"/content/drive/MyDrive/CG-ODE-main/CG-ODE-main/data/Dec\"\n",
        "\n",
        "features = {'dailyDeaths','Deaths','totCases','cases','1Dose','fullyVac','temperature'}\n",
        "feature_labels = np.array(list(features))\n",
        "\n",
        "train = np.load(os.path.join(PROJECT_ROOT,\"train.npy\"))\n",
        "test =  np.load(os.path.join(PROJECT_ROOT,\"test.npy\"))"
      ],
      "execution_count": null,
      "outputs": []
    },
    {
      "cell_type": "code",
      "metadata": {
        "id": "R4hBdjMoVVZC"
      },
      "source": [
        "#choose the feature you wish to train on\n",
        "train_one = train[:,:,0]\n",
        "train_one = train_one.T\n",
        "days, states = train_one.shape\n",
        "\n",
        "test_one = test[:,:,0]\n",
        "test_one = test_one.T\n",
        "days_test, states = test_one.shape"
      ],
      "execution_count": null,
      "outputs": []
    },
    {
      "cell_type": "code",
      "metadata": {
        "id": "F4HI0-X3VtP_"
      },
      "source": [
        "#we are only going to take equal windows to predict\n",
        "window = 7 #how many days we wish to predict into the future\n",
        "\n",
        "#train\n",
        "train_x = np.array([])\n",
        "train_y = np.array([])\n",
        "for i in range(days-2*window):\n",
        "  if i==0:\n",
        "    train_x = train_one[i:i+window,:]\n",
        "    train_x = np.expand_dims(train_x,axis=0)\n",
        "    train_y = test_one[i+window:i+2*window,:]\n",
        "    train_y = np.expand_dims(train_y,axis=0)\n",
        "  else:\n",
        "    x = train_one[i:i+window,:]\n",
        "    x = np.expand_dims(x,axis=0)\n",
        "    train_x = np.vstack((train_x,x))\n",
        "    y = train_one[i:i+window,:]\n",
        "    y = np.expand_dims(y,axis=0)\n",
        "    train_y = np.vstack((train_y,y))\n",
        "\n",
        "\n",
        "#test\n",
        "test_x = np.array([])\n",
        "test_y = np.array([])\n",
        "for i in range(days_test-2*window):\n",
        "  if i==0:\n",
        "    test_x = test_one[i:i+window,:]\n",
        "    test_x = np.expand_dims(test_x,axis=0)\n",
        "    test_y = test_one[i+window:i+2*window,:]\n",
        "    test_y = np.expand_dims(test_y,axis=0)\n",
        "  else:\n",
        "    x = test_one[i:i+window,:]\n",
        "    x = np.expand_dims(x,axis=0)\n",
        "    test_x = np.vstack((test_x,x))\n",
        "    y = test_one[i:i+window,:]\n",
        "    y = np.expand_dims(y,axis=0)\n",
        "    test_y = np.vstack((test_y,y))\n",
        "\n",
        "#make into tensor\n",
        "train_x = torch.from_numpy(train_y)\n",
        "train_y = torch.from_numpy(train_y)\n",
        "test_x = torch.from_numpy(test_y)\n",
        "test_y = torch.from_numpy(test_y)\n",
        "\n",
        "#make into double tensor\n",
        "train_x = torch.DoubleTensor(train_x).to('cuda:0')\n",
        "train_y = torch.DoubleTensor(train_y).to('cuda:0')\n",
        "test_x = torch.DoubleTensor(test_x).to('cuda:0')\n",
        "test_y = torch.DoubleTensor(test_y).to('cuda:0')"
      ],
      "execution_count": null,
      "outputs": []
    },
    {
      "cell_type": "code",
      "metadata": {
        "colab": {
          "base_uri": "https://localhost:8080/"
        },
        "id": "THc3FbH0X7Ex",
        "outputId": "2b204dff-e4c7-40e6-efe7-bc7af47f9e73"
      },
      "source": [
        "train_x.shape,train_y.shape, test_x.shape,test_y.shape"
      ],
      "execution_count": null,
      "outputs": [
        {
          "output_type": "execute_result",
          "data": {
            "text/plain": [
              "(torch.Size([219, 7, 50]),\n",
              " torch.Size([219, 7, 50]),\n",
              " torch.Size([17, 7, 50]),\n",
              " torch.Size([17, 7, 50]))"
            ]
          },
          "metadata": {},
          "execution_count": 7
        }
      ]
    },
    {
      "cell_type": "code",
      "metadata": {
        "colab": {
          "base_uri": "https://localhost:8080/"
        },
        "id": "AVZmoaUEhQLF",
        "outputId": "5fa0ab97-4e29-481b-d274-dd9818f24b52"
      },
      "source": [
        "train_x[0,:,:].shape"
      ],
      "execution_count": null,
      "outputs": [
        {
          "output_type": "execute_result",
          "data": {
            "text/plain": [
              "torch.Size([7, 50])"
            ]
          },
          "metadata": {},
          "execution_count": 8
        }
      ]
    },
    {
      "cell_type": "code",
      "metadata": {
        "id": "_maBAJ2gV75n"
      },
      "source": [
        "class LSTM(nn.Module):\n",
        "    def __init__(self, input_size=50, hidden_layer_size=64, output_size=50):\n",
        "        super().__init__()\n",
        "        self.hidden_layer_size = hidden_layer_size\n",
        "\n",
        "        self.lstm = nn.LSTM(input_size, hidden_layer_size)\n",
        "\n",
        "        self.linear1 = nn.Linear(hidden_layer_size, 128)\n",
        "        self.linear2 = nn.Linear(128,output_size)\n",
        "\n",
        "        self.hidden_cell = (torch.zeros(1,1,self.hidden_layer_size),\n",
        "                            torch.zeros(1,1,self.hidden_layer_size))\n",
        "\n",
        "    def forward(self, input_seq):\n",
        "        lstm_out, self.hidden_cell = self.lstm(input_seq.view(len(input_seq) ,1, -1), self.hidden_cell)\n",
        "        #lstm_out, self.hidden_cell = self.lstm(input_seq, self.hidden_cell)\n",
        "        pred1 = self.linear1(lstm_out.view(len(input_seq), -1))\n",
        "        pred2 = self.linear2(pred1.view(len(input_seq), -1))\n",
        "        return pred2"
      ],
      "execution_count": null,
      "outputs": []
    },
    {
      "cell_type": "code",
      "metadata": {
        "id": "EhpBnWYtcbT9"
      },
      "source": [
        "model = LSTM()\n",
        "dtype = torch.cuda.DoubleTensor\n",
        "model.type(dtype).to(device)\n",
        "loss_function = nn.MSELoss()\n",
        "optimizer = torch.optim.Adam(model.parameters(), lr=0.001)"
      ],
      "execution_count": null,
      "outputs": []
    },
    {
      "cell_type": "code",
      "metadata": {
        "colab": {
          "base_uri": "https://localhost:8080/"
        },
        "id": "vzDq74yq0eK-",
        "outputId": "20324561-531e-431a-9118-54b8a124f060"
      },
      "source": [
        "model(train_x[0,:,:]).shape"
      ],
      "execution_count": null,
      "outputs": [
        {
          "output_type": "execute_result",
          "data": {
            "text/plain": [
              "torch.Size([7, 50])"
            ]
          },
          "metadata": {},
          "execution_count": 26
        }
      ]
    },
    {
      "cell_type": "code",
      "metadata": {
        "colab": {
          "base_uri": "https://localhost:8080/"
        },
        "id": "ina3GzZkciLq",
        "outputId": "df1c0cfc-e29d-4dba-9d60-572170818e9b"
      },
      "source": [
        "epochs = 500\n",
        "model.train()\n",
        "for i in np.arange(epochs):\n",
        "  #optimizer.zero_grad()\n",
        "  #model.hidden_cell = (torch.zeros(1, 1, model.hidden_layer_size),\n",
        "   #                     torch.zeros(1, 1, model.hidden_layer_size))\n",
        "  for j in range(train_x.shape[0]):\n",
        "      optimizer.zero_grad()\n",
        "      model.hidden_cell = (torch.zeros(1, 1, model.hidden_layer_size),\n",
        "                      torch.zeros(1, 1, model.hidden_layer_size))\n",
        "\n",
        "      y_pred = model(train_x[j,:])\n",
        "\n",
        "      single_loss = loss_function(y_pred, train_y[j,:])\n",
        "      single_loss.backward()\n",
        "      optimizer.step()\n",
        "\n",
        "  if i%25 == 0:\n",
        "      print(f'epoch: {i:3} loss: {single_loss.item():10.8f}')\n",
        "\n",
        "print(f'epoch: {i:3} loss: {single_loss.item():10.10f}')"
      ],
      "execution_count": null,
      "outputs": [
        {
          "output_type": "stream",
          "name": "stdout",
          "text": [
            "epoch:   0 loss: 567288649075.60339355\n",
            "epoch:  25 loss: 502147921461.06555176\n",
            "epoch:  50 loss: 388250280536.98059082\n",
            "epoch:  75 loss: 280924172059.73437500\n",
            "epoch: 100 loss: 212629267737.92102051\n",
            "epoch: 125 loss: 183728429896.71392822\n",
            "epoch: 150 loss: 176344409730.77276611\n",
            "epoch: 175 loss: 176268355259.80737305\n",
            "epoch: 200 loss: 177562315367.40628052\n",
            "epoch: 225 loss: 178612583928.94409180\n",
            "epoch: 250 loss: 179215139215.39749146\n",
            "epoch: 275 loss: 179479631401.11566162\n",
            "epoch: 300 loss: 179528803602.72222900\n",
            "epoch: 325 loss: 179446298201.49673462\n",
            "epoch: 350 loss: 179282399223.92166138\n",
            "epoch: 375 loss: 179065734236.38351440\n",
            "epoch: 400 loss: 178812234943.31292725\n",
            "epoch: 425 loss: 178530765927.06713867\n",
            "epoch: 450 loss: 178226356901.02410889\n",
            "epoch: 475 loss: 177901981034.36068726\n",
            "epoch: 499 loss: 177573541052.1642761230\n"
          ]
        }
      ]
    },
    {
      "cell_type": "code",
      "metadata": {
        "colab": {
          "base_uri": "https://localhost:8080/"
        },
        "id": "7SlBEw0viDtZ",
        "outputId": "4493443d-5112-4ee2-9d94-58b1dc9e11c5"
      },
      "source": [
        "model.eval()\n",
        "mape_list = []\n",
        "for i in range(test_x.shape[0]):\n",
        "  y_pred_test = model(test_x[i,:])\n",
        "  mape_vec = torch.abs(y_pred_test - test_y[i,:])/test_y[i,:]\n",
        "  mape_np = mape_vec.detach().cpu().numpy()\n",
        "  mape_list.append(np.mean(mape_np))\n",
        "\n",
        "np.mean(mape_list)"
      ],
      "execution_count": null,
      "outputs": [
        {
          "output_type": "execute_result",
          "data": {
            "text/plain": [
              "2.285555262128937"
            ]
          },
          "metadata": {},
          "execution_count": 12
        }
      ]
    },
    {
      "cell_type": "code",
      "metadata": {
        "colab": {
          "base_uri": "https://localhost:8080/"
        },
        "id": "25TLYi_wjRXm",
        "outputId": "91e6c6ff-103d-4735-e8f4-15532fb1a187"
      },
      "source": [
        "y_pred_test = model(test_x[0,:])\n",
        "mape_vec = torch.abs(y_pred_test - test_y[0,:])/test_y[0,:]\n",
        "mape_np = mape_vec.detach().cpu().numpy()\n",
        "np.mean(mape_np)"
      ],
      "execution_count": null,
      "outputs": [
        {
          "output_type": "execute_result",
          "data": {
            "text/plain": [
              "2.3387388433665426"
            ]
          },
          "metadata": {},
          "execution_count": 33
        }
      ]
    }
  ]
}